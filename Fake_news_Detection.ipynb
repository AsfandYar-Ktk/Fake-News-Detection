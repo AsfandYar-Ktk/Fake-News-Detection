{
  "nbformat": 4,
  "nbformat_minor": 0,
  "metadata": {
    "colab": {
      "provenance": []
    },
    "kernelspec": {
      "name": "python3",
      "display_name": "Python 3"
    },
    "language_info": {
      "name": "python"
    }
  },
  "cells": [
    {
      "cell_type": "code",
      "execution_count": null,
      "metadata": {
        "id": "N3lRuZ5bg_pA"
      },
      "outputs": [],
      "source": [
        "import pandas as pd\n",
        "from collections import Counter\n",
        "import re\n",
        "import seaborn as sbs\n",
        "import matplotlib.pyplot as plt\n",
        "import numpy as np\n",
        "import nltk\n",
        "from nltk.corpus import stopwords\n",
        "from nltk.stem.porter import PorterStemmer\n",
        "from sklearn.metrics import confusion_matrix, ConfusionMatrixDisplay, log_loss, classification_report, accuracy_score,  roc_auc_score, roc_curve, auc\n",
        "from sklearn.feature_extraction.text import TfidfVectorizer\n",
        "from sklearn.model_selection import train_test_split, StratifiedKFold, cross_val_score\n",
        "from PIL import Image\n",
        "from wordcloud import WordCloud, STOPWORDS, ImageColorGenerator\n",
        "from sklearn.ensemble import RandomForestClassifier\n",
        "from sklearn.linear_model import LogisticRegression\n",
        "from sklearn.ensemble import GradientBoostingClassifier\n",
        "from sklearn.model_selection import GridSearchCV\n",
        "import pickle\n",
        "from sklearn.pipeline import Pipeline\n",
        "from sklearn.preprocessing import FunctionTransformer"
      ]
    },
    {
      "cell_type": "code",
      "source": [
        "df_fake = pd.read_csv(\"Fake.csv\")\n",
        "df_true = pd.read_csv(\"True.csv\")"
      ],
      "metadata": {
        "id": "uQEBK5dwkJHX"
      },
      "execution_count": null,
      "outputs": []
    },
    {
      "cell_type": "code",
      "source": [
        "df_fake['Label']='Fake'\n",
        "df_true['Label']='True'"
      ],
      "metadata": {
        "id": "yoK3x0uYkYF5"
      },
      "execution_count": null,
      "outputs": []
    },
    {
      "cell_type": "code",
      "source": [
        "df_fake.shape, df_true.shape"
      ],
      "metadata": {
        "colab": {
          "base_uri": "https://localhost:8080/"
        },
        "id": "jFgkcVswksZV",
        "outputId": "e4f66198-5fdf-45bc-e536-07851584a253"
      },
      "execution_count": null,
      "outputs": [
        {
          "output_type": "execute_result",
          "data": {
            "text/plain": [
              "((23481, 5), (21417, 5))"
            ]
          },
          "metadata": {},
          "execution_count": 4
        }
      ]
    },
    {
      "cell_type": "code",
      "source": [
        "j=0\n",
        "for i in df_true['text']:\n",
        "    if '(Reuters)' in i:\n",
        "        j+=1\n",
        "\n",
        "print(j)"
      ],
      "metadata": {
        "colab": {
          "base_uri": "https://localhost:8080/"
        },
        "id": "BmRxmgjqk7ep",
        "outputId": "84b7d10f-041f-480e-fbd4-34e8ef4fc585"
      },
      "execution_count": null,
      "outputs": [
        {
          "output_type": "stream",
          "name": "stdout",
          "text": [
            "21247\n"
          ]
        }
      ]
    },
    {
      "cell_type": "code",
      "source": [
        "df_manual=pd.DataFrame()\n",
        "df_manual['title']=''\n",
        "df_manual['text']=''\n",
        "df_manual['subject']=''\n",
        "df_manual['date']=''\n",
        "df_manual['Label']=''\n",
        "\n",
        "\n",
        "for i in range(516,526):\n",
        "    df_manual.loc[len(df_manual)]= df_fake.loc[i]\n",
        "    df_fake.drop(index=i, inplace=True, axis='index')\n",
        "for i in range(487,498):\n",
        "    df_manual.loc[len(df_manual)]= df_true.loc[i]\n",
        "    df_true.drop(index=i, inplace=True, axis='index')"
      ],
      "metadata": {
        "id": "HEQbyDMtoYfh"
      },
      "execution_count": null,
      "outputs": []
    },
    {
      "cell_type": "code",
      "source": [
        "df_fake.shape, df_true.shape"
      ],
      "metadata": {
        "colab": {
          "base_uri": "https://localhost:8080/"
        },
        "id": "WN9CXy0SpDVm",
        "outputId": "2cc29dfb-2c40-42d5-bcd5-6711cfaf21ef"
      },
      "execution_count": null,
      "outputs": [
        {
          "output_type": "execute_result",
          "data": {
            "text/plain": [
              "((23471, 5), (21406, 5))"
            ]
          },
          "metadata": {},
          "execution_count": 12
        }
      ]
    },
    {
      "cell_type": "code",
      "source": [
        "df_train= pd.concat([df_fake, df_true], axis=0)"
      ],
      "metadata": {
        "id": "9Qby4ilVpQFn"
      },
      "execution_count": null,
      "outputs": []
    },
    {
      "cell_type": "code",
      "source": [
        "df_train.shape"
      ],
      "metadata": {
        "colab": {
          "base_uri": "https://localhost:8080/"
        },
        "id": "PyUCN0jUpSIr",
        "outputId": "2a3d3544-ee5d-4c9f-a726-ef2b65971369"
      },
      "execution_count": null,
      "outputs": [
        {
          "output_type": "execute_result",
          "data": {
            "text/plain": [
              "(44877, 5)"
            ]
          },
          "metadata": {},
          "execution_count": 16
        }
      ]
    },
    {
      "cell_type": "code",
      "source": [
        "df_train=df_train.sample(frac=0.5)"
      ],
      "metadata": {
        "id": "41BqwUf5p_0t"
      },
      "execution_count": null,
      "outputs": []
    },
    {
      "cell_type": "code",
      "source": [
        "df_train.describe()"
      ],
      "metadata": {
        "colab": {
          "base_uri": "https://localhost:8080/",
          "height": 175
        },
        "id": "AJhZTB9-qO2O",
        "outputId": "53d7cfcf-4b11-4150-d866-dce6649d957e"
      },
      "execution_count": null,
      "outputs": [
        {
          "output_type": "execute_result",
          "data": {
            "text/plain": [
              "                                                    title   text  \\\n",
              "count                                               22438  22438   \n",
              "unique                                              20868  20703   \n",
              "top     Factbox: Trump fills top jobs for his administ...          \n",
              "freq                                                    8    307   \n",
              "\n",
              "             subject                date  Label  \n",
              "count          22438               22438  22438  \n",
              "unique             8                2340      2  \n",
              "top     politicsNews  December 20, 2017    Fake  \n",
              "freq            5636                  96  11762  "
            ],
            "text/html": [
              "\n",
              "  <div id=\"df-3f9d31b2-63ce-4c7d-840c-e9e230db929c\" class=\"colab-df-container\">\n",
              "    <div>\n",
              "<style scoped>\n",
              "    .dataframe tbody tr th:only-of-type {\n",
              "        vertical-align: middle;\n",
              "    }\n",
              "\n",
              "    .dataframe tbody tr th {\n",
              "        vertical-align: top;\n",
              "    }\n",
              "\n",
              "    .dataframe thead th {\n",
              "        text-align: right;\n",
              "    }\n",
              "</style>\n",
              "<table border=\"1\" class=\"dataframe\">\n",
              "  <thead>\n",
              "    <tr style=\"text-align: right;\">\n",
              "      <th></th>\n",
              "      <th>title</th>\n",
              "      <th>text</th>\n",
              "      <th>subject</th>\n",
              "      <th>date</th>\n",
              "      <th>Label</th>\n",
              "    </tr>\n",
              "  </thead>\n",
              "  <tbody>\n",
              "    <tr>\n",
              "      <th>count</th>\n",
              "      <td>22438</td>\n",
              "      <td>22438</td>\n",
              "      <td>22438</td>\n",
              "      <td>22438</td>\n",
              "      <td>22438</td>\n",
              "    </tr>\n",
              "    <tr>\n",
              "      <th>unique</th>\n",
              "      <td>20868</td>\n",
              "      <td>20703</td>\n",
              "      <td>8</td>\n",
              "      <td>2340</td>\n",
              "      <td>2</td>\n",
              "    </tr>\n",
              "    <tr>\n",
              "      <th>top</th>\n",
              "      <td>Factbox: Trump fills top jobs for his administ...</td>\n",
              "      <td></td>\n",
              "      <td>politicsNews</td>\n",
              "      <td>December 20, 2017</td>\n",
              "      <td>Fake</td>\n",
              "    </tr>\n",
              "    <tr>\n",
              "      <th>freq</th>\n",
              "      <td>8</td>\n",
              "      <td>307</td>\n",
              "      <td>5636</td>\n",
              "      <td>96</td>\n",
              "      <td>11762</td>\n",
              "    </tr>\n",
              "  </tbody>\n",
              "</table>\n",
              "</div>\n",
              "    <div class=\"colab-df-buttons\">\n",
              "\n",
              "  <div class=\"colab-df-container\">\n",
              "    <button class=\"colab-df-convert\" onclick=\"convertToInteractive('df-3f9d31b2-63ce-4c7d-840c-e9e230db929c')\"\n",
              "            title=\"Convert this dataframe to an interactive table.\"\n",
              "            style=\"display:none;\">\n",
              "\n",
              "  <svg xmlns=\"http://www.w3.org/2000/svg\" height=\"24px\" viewBox=\"0 -960 960 960\">\n",
              "    <path d=\"M120-120v-720h720v720H120Zm60-500h600v-160H180v160Zm220 220h160v-160H400v160Zm0 220h160v-160H400v160ZM180-400h160v-160H180v160Zm440 0h160v-160H620v160ZM180-180h160v-160H180v160Zm440 0h160v-160H620v160Z\"/>\n",
              "  </svg>\n",
              "    </button>\n",
              "\n",
              "  <style>\n",
              "    .colab-df-container {\n",
              "      display:flex;\n",
              "      gap: 12px;\n",
              "    }\n",
              "\n",
              "    .colab-df-convert {\n",
              "      background-color: #E8F0FE;\n",
              "      border: none;\n",
              "      border-radius: 50%;\n",
              "      cursor: pointer;\n",
              "      display: none;\n",
              "      fill: #1967D2;\n",
              "      height: 32px;\n",
              "      padding: 0 0 0 0;\n",
              "      width: 32px;\n",
              "    }\n",
              "\n",
              "    .colab-df-convert:hover {\n",
              "      background-color: #E2EBFA;\n",
              "      box-shadow: 0px 1px 2px rgba(60, 64, 67, 0.3), 0px 1px 3px 1px rgba(60, 64, 67, 0.15);\n",
              "      fill: #174EA6;\n",
              "    }\n",
              "\n",
              "    .colab-df-buttons div {\n",
              "      margin-bottom: 4px;\n",
              "    }\n",
              "\n",
              "    [theme=dark] .colab-df-convert {\n",
              "      background-color: #3B4455;\n",
              "      fill: #D2E3FC;\n",
              "    }\n",
              "\n",
              "    [theme=dark] .colab-df-convert:hover {\n",
              "      background-color: #434B5C;\n",
              "      box-shadow: 0px 1px 3px 1px rgba(0, 0, 0, 0.15);\n",
              "      filter: drop-shadow(0px 1px 2px rgba(0, 0, 0, 0.3));\n",
              "      fill: #FFFFFF;\n",
              "    }\n",
              "  </style>\n",
              "\n",
              "    <script>\n",
              "      const buttonEl =\n",
              "        document.querySelector('#df-3f9d31b2-63ce-4c7d-840c-e9e230db929c button.colab-df-convert');\n",
              "      buttonEl.style.display =\n",
              "        google.colab.kernel.accessAllowed ? 'block' : 'none';\n",
              "\n",
              "      async function convertToInteractive(key) {\n",
              "        const element = document.querySelector('#df-3f9d31b2-63ce-4c7d-840c-e9e230db929c');\n",
              "        const dataTable =\n",
              "          await google.colab.kernel.invokeFunction('convertToInteractive',\n",
              "                                                    [key], {});\n",
              "        if (!dataTable) return;\n",
              "\n",
              "        const docLinkHtml = 'Like what you see? Visit the ' +\n",
              "          '<a target=\"_blank\" href=https://colab.research.google.com/notebooks/data_table.ipynb>data table notebook</a>'\n",
              "          + ' to learn more about interactive tables.';\n",
              "        element.innerHTML = '';\n",
              "        dataTable['output_type'] = 'display_data';\n",
              "        await google.colab.output.renderOutput(dataTable, element);\n",
              "        const docLink = document.createElement('div');\n",
              "        docLink.innerHTML = docLinkHtml;\n",
              "        element.appendChild(docLink);\n",
              "      }\n",
              "    </script>\n",
              "  </div>\n",
              "\n",
              "\n",
              "<div id=\"df-bcea632d-7fca-4f50-931b-5b426f508117\">\n",
              "  <button class=\"colab-df-quickchart\" onclick=\"quickchart('df-bcea632d-7fca-4f50-931b-5b426f508117')\"\n",
              "            title=\"Suggest charts\"\n",
              "            style=\"display:none;\">\n",
              "\n",
              "<svg xmlns=\"http://www.w3.org/2000/svg\" height=\"24px\"viewBox=\"0 0 24 24\"\n",
              "     width=\"24px\">\n",
              "    <g>\n",
              "        <path d=\"M19 3H5c-1.1 0-2 .9-2 2v14c0 1.1.9 2 2 2h14c1.1 0 2-.9 2-2V5c0-1.1-.9-2-2-2zM9 17H7v-7h2v7zm4 0h-2V7h2v10zm4 0h-2v-4h2v4z\"/>\n",
              "    </g>\n",
              "</svg>\n",
              "  </button>\n",
              "\n",
              "<style>\n",
              "  .colab-df-quickchart {\n",
              "      --bg-color: #E8F0FE;\n",
              "      --fill-color: #1967D2;\n",
              "      --hover-bg-color: #E2EBFA;\n",
              "      --hover-fill-color: #174EA6;\n",
              "      --disabled-fill-color: #AAA;\n",
              "      --disabled-bg-color: #DDD;\n",
              "  }\n",
              "\n",
              "  [theme=dark] .colab-df-quickchart {\n",
              "      --bg-color: #3B4455;\n",
              "      --fill-color: #D2E3FC;\n",
              "      --hover-bg-color: #434B5C;\n",
              "      --hover-fill-color: #FFFFFF;\n",
              "      --disabled-bg-color: #3B4455;\n",
              "      --disabled-fill-color: #666;\n",
              "  }\n",
              "\n",
              "  .colab-df-quickchart {\n",
              "    background-color: var(--bg-color);\n",
              "    border: none;\n",
              "    border-radius: 50%;\n",
              "    cursor: pointer;\n",
              "    display: none;\n",
              "    fill: var(--fill-color);\n",
              "    height: 32px;\n",
              "    padding: 0;\n",
              "    width: 32px;\n",
              "  }\n",
              "\n",
              "  .colab-df-quickchart:hover {\n",
              "    background-color: var(--hover-bg-color);\n",
              "    box-shadow: 0 1px 2px rgba(60, 64, 67, 0.3), 0 1px 3px 1px rgba(60, 64, 67, 0.15);\n",
              "    fill: var(--button-hover-fill-color);\n",
              "  }\n",
              "\n",
              "  .colab-df-quickchart-complete:disabled,\n",
              "  .colab-df-quickchart-complete:disabled:hover {\n",
              "    background-color: var(--disabled-bg-color);\n",
              "    fill: var(--disabled-fill-color);\n",
              "    box-shadow: none;\n",
              "  }\n",
              "\n",
              "  .colab-df-spinner {\n",
              "    border: 2px solid var(--fill-color);\n",
              "    border-color: transparent;\n",
              "    border-bottom-color: var(--fill-color);\n",
              "    animation:\n",
              "      spin 1s steps(1) infinite;\n",
              "  }\n",
              "\n",
              "  @keyframes spin {\n",
              "    0% {\n",
              "      border-color: transparent;\n",
              "      border-bottom-color: var(--fill-color);\n",
              "      border-left-color: var(--fill-color);\n",
              "    }\n",
              "    20% {\n",
              "      border-color: transparent;\n",
              "      border-left-color: var(--fill-color);\n",
              "      border-top-color: var(--fill-color);\n",
              "    }\n",
              "    30% {\n",
              "      border-color: transparent;\n",
              "      border-left-color: var(--fill-color);\n",
              "      border-top-color: var(--fill-color);\n",
              "      border-right-color: var(--fill-color);\n",
              "    }\n",
              "    40% {\n",
              "      border-color: transparent;\n",
              "      border-right-color: var(--fill-color);\n",
              "      border-top-color: var(--fill-color);\n",
              "    }\n",
              "    60% {\n",
              "      border-color: transparent;\n",
              "      border-right-color: var(--fill-color);\n",
              "    }\n",
              "    80% {\n",
              "      border-color: transparent;\n",
              "      border-right-color: var(--fill-color);\n",
              "      border-bottom-color: var(--fill-color);\n",
              "    }\n",
              "    90% {\n",
              "      border-color: transparent;\n",
              "      border-bottom-color: var(--fill-color);\n",
              "    }\n",
              "  }\n",
              "</style>\n",
              "\n",
              "  <script>\n",
              "    async function quickchart(key) {\n",
              "      const quickchartButtonEl =\n",
              "        document.querySelector('#' + key + ' button');\n",
              "      quickchartButtonEl.disabled = true;  // To prevent multiple clicks.\n",
              "      quickchartButtonEl.classList.add('colab-df-spinner');\n",
              "      try {\n",
              "        const charts = await google.colab.kernel.invokeFunction(\n",
              "            'suggestCharts', [key], {});\n",
              "      } catch (error) {\n",
              "        console.error('Error during call to suggestCharts:', error);\n",
              "      }\n",
              "      quickchartButtonEl.classList.remove('colab-df-spinner');\n",
              "      quickchartButtonEl.classList.add('colab-df-quickchart-complete');\n",
              "    }\n",
              "    (() => {\n",
              "      let quickchartButtonEl =\n",
              "        document.querySelector('#df-bcea632d-7fca-4f50-931b-5b426f508117 button');\n",
              "      quickchartButtonEl.style.display =\n",
              "        google.colab.kernel.accessAllowed ? 'block' : 'none';\n",
              "    })();\n",
              "  </script>\n",
              "</div>\n",
              "\n",
              "    </div>\n",
              "  </div>\n"
            ],
            "application/vnd.google.colaboratory.intrinsic+json": {
              "type": "dataframe",
              "summary": "{\n  \"name\": \"df_train\",\n  \"rows\": 4,\n  \"fields\": [\n    {\n      \"column\": \"title\",\n      \"properties\": {\n        \"dtype\": \"string\",\n        \"num_unique_values\": 4,\n        \"samples\": [\n          20868,\n          \"8\",\n          \"22438\"\n        ],\n        \"semantic_type\": \"\",\n        \"description\": \"\"\n      }\n    },\n    {\n      \"column\": \"text\",\n      \"properties\": {\n        \"dtype\": \"string\",\n        \"num_unique_values\": 4,\n        \"samples\": [\n          20703,\n          \"307\",\n          \"22438\"\n        ],\n        \"semantic_type\": \"\",\n        \"description\": \"\"\n      }\n    },\n    {\n      \"column\": \"subject\",\n      \"properties\": {\n        \"dtype\": \"string\",\n        \"num_unique_values\": 4,\n        \"samples\": [\n          8,\n          \"5636\",\n          \"22438\"\n        ],\n        \"semantic_type\": \"\",\n        \"description\": \"\"\n      }\n    },\n    {\n      \"column\": \"date\",\n      \"properties\": {\n        \"dtype\": \"date\",\n        \"min\": \"1970-01-01 00:00:00.000000096\",\n        \"max\": \"2017-12-20 00:00:00\",\n        \"num_unique_values\": 4,\n        \"samples\": [\n          2340,\n          \"96\",\n          \"22438\"\n        ],\n        \"semantic_type\": \"\",\n        \"description\": \"\"\n      }\n    },\n    {\n      \"column\": \"Label\",\n      \"properties\": {\n        \"dtype\": \"string\",\n        \"num_unique_values\": 4,\n        \"samples\": [\n          2,\n          \"11762\",\n          \"22438\"\n        ],\n        \"semantic_type\": \"\",\n        \"description\": \"\"\n      }\n    }\n  ]\n}"
            }
          },
          "metadata": {},
          "execution_count": 18
        }
      ]
    },
    {
      "cell_type": "code",
      "source": [
        "df_train.head(5)"
      ],
      "metadata": {
        "colab": {
          "base_uri": "https://localhost:8080/",
          "height": 293
        },
        "id": "VSY5G0rlqhbS",
        "outputId": "f658575b-5043-4062-fa0f-f900023490b9"
      },
      "execution_count": null,
      "outputs": [
        {
          "output_type": "execute_result",
          "data": {
            "text/plain": [
              "                                                   title  \\\n",
              "11883  Colombia names new peace negotiator with ELN, ...   \n",
              "8922    This Incredibly Powerful Statement From A Tee...   \n",
              "4088    Donald Trump Jr. Says Bragging About Sexual A...   \n",
              "5056    Trump talks infrastructure with Musk, developers   \n",
              "13529  WATCH: GEORGE W. BUSH Offers Somber Memorial H...   \n",
              "\n",
              "                                                    text       subject  \\\n",
              "11883  BOGOTA (Reuters) - Colombia s President Juan M...     worldnews   \n",
              "8922   When we think of school shootings, we often th...          News   \n",
              "4088   Donald Trump Jr. tried in vain to brush off hi...          News   \n",
              "5056   WASHINGTON (Reuters) - U.S. President Donald T...  politicsNews   \n",
              "13529  These two Presidents could not be more differe...      politics   \n",
              "\n",
              "                     date Label  \n",
              "11883  December 19, 2017   True  \n",
              "8922      January 6, 2016  Fake  \n",
              "4088     October 22, 2016  Fake  \n",
              "5056       March 8, 2017   True  \n",
              "13529        Jul 12, 2016  Fake  "
            ],
            "text/html": [
              "\n",
              "  <div id=\"df-4c70abdd-d5a3-42d5-bd9f-608dcf1f50e4\" class=\"colab-df-container\">\n",
              "    <div>\n",
              "<style scoped>\n",
              "    .dataframe tbody tr th:only-of-type {\n",
              "        vertical-align: middle;\n",
              "    }\n",
              "\n",
              "    .dataframe tbody tr th {\n",
              "        vertical-align: top;\n",
              "    }\n",
              "\n",
              "    .dataframe thead th {\n",
              "        text-align: right;\n",
              "    }\n",
              "</style>\n",
              "<table border=\"1\" class=\"dataframe\">\n",
              "  <thead>\n",
              "    <tr style=\"text-align: right;\">\n",
              "      <th></th>\n",
              "      <th>title</th>\n",
              "      <th>text</th>\n",
              "      <th>subject</th>\n",
              "      <th>date</th>\n",
              "      <th>Label</th>\n",
              "    </tr>\n",
              "  </thead>\n",
              "  <tbody>\n",
              "    <tr>\n",
              "      <th>11883</th>\n",
              "      <td>Colombia names new peace negotiator with ELN, ...</td>\n",
              "      <td>BOGOTA (Reuters) - Colombia s President Juan M...</td>\n",
              "      <td>worldnews</td>\n",
              "      <td>December 19, 2017</td>\n",
              "      <td>True</td>\n",
              "    </tr>\n",
              "    <tr>\n",
              "      <th>8922</th>\n",
              "      <td>This Incredibly Powerful Statement From A Tee...</td>\n",
              "      <td>When we think of school shootings, we often th...</td>\n",
              "      <td>News</td>\n",
              "      <td>January 6, 2016</td>\n",
              "      <td>Fake</td>\n",
              "    </tr>\n",
              "    <tr>\n",
              "      <th>4088</th>\n",
              "      <td>Donald Trump Jr. Says Bragging About Sexual A...</td>\n",
              "      <td>Donald Trump Jr. tried in vain to brush off hi...</td>\n",
              "      <td>News</td>\n",
              "      <td>October 22, 2016</td>\n",
              "      <td>Fake</td>\n",
              "    </tr>\n",
              "    <tr>\n",
              "      <th>5056</th>\n",
              "      <td>Trump talks infrastructure with Musk, developers</td>\n",
              "      <td>WASHINGTON (Reuters) - U.S. President Donald T...</td>\n",
              "      <td>politicsNews</td>\n",
              "      <td>March 8, 2017</td>\n",
              "      <td>True</td>\n",
              "    </tr>\n",
              "    <tr>\n",
              "      <th>13529</th>\n",
              "      <td>WATCH: GEORGE W. BUSH Offers Somber Memorial H...</td>\n",
              "      <td>These two Presidents could not be more differe...</td>\n",
              "      <td>politics</td>\n",
              "      <td>Jul 12, 2016</td>\n",
              "      <td>Fake</td>\n",
              "    </tr>\n",
              "  </tbody>\n",
              "</table>\n",
              "</div>\n",
              "    <div class=\"colab-df-buttons\">\n",
              "\n",
              "  <div class=\"colab-df-container\">\n",
              "    <button class=\"colab-df-convert\" onclick=\"convertToInteractive('df-4c70abdd-d5a3-42d5-bd9f-608dcf1f50e4')\"\n",
              "            title=\"Convert this dataframe to an interactive table.\"\n",
              "            style=\"display:none;\">\n",
              "\n",
              "  <svg xmlns=\"http://www.w3.org/2000/svg\" height=\"24px\" viewBox=\"0 -960 960 960\">\n",
              "    <path d=\"M120-120v-720h720v720H120Zm60-500h600v-160H180v160Zm220 220h160v-160H400v160Zm0 220h160v-160H400v160ZM180-400h160v-160H180v160Zm440 0h160v-160H620v160ZM180-180h160v-160H180v160Zm440 0h160v-160H620v160Z\"/>\n",
              "  </svg>\n",
              "    </button>\n",
              "\n",
              "  <style>\n",
              "    .colab-df-container {\n",
              "      display:flex;\n",
              "      gap: 12px;\n",
              "    }\n",
              "\n",
              "    .colab-df-convert {\n",
              "      background-color: #E8F0FE;\n",
              "      border: none;\n",
              "      border-radius: 50%;\n",
              "      cursor: pointer;\n",
              "      display: none;\n",
              "      fill: #1967D2;\n",
              "      height: 32px;\n",
              "      padding: 0 0 0 0;\n",
              "      width: 32px;\n",
              "    }\n",
              "\n",
              "    .colab-df-convert:hover {\n",
              "      background-color: #E2EBFA;\n",
              "      box-shadow: 0px 1px 2px rgba(60, 64, 67, 0.3), 0px 1px 3px 1px rgba(60, 64, 67, 0.15);\n",
              "      fill: #174EA6;\n",
              "    }\n",
              "\n",
              "    .colab-df-buttons div {\n",
              "      margin-bottom: 4px;\n",
              "    }\n",
              "\n",
              "    [theme=dark] .colab-df-convert {\n",
              "      background-color: #3B4455;\n",
              "      fill: #D2E3FC;\n",
              "    }\n",
              "\n",
              "    [theme=dark] .colab-df-convert:hover {\n",
              "      background-color: #434B5C;\n",
              "      box-shadow: 0px 1px 3px 1px rgba(0, 0, 0, 0.15);\n",
              "      filter: drop-shadow(0px 1px 2px rgba(0, 0, 0, 0.3));\n",
              "      fill: #FFFFFF;\n",
              "    }\n",
              "  </style>\n",
              "\n",
              "    <script>\n",
              "      const buttonEl =\n",
              "        document.querySelector('#df-4c70abdd-d5a3-42d5-bd9f-608dcf1f50e4 button.colab-df-convert');\n",
              "      buttonEl.style.display =\n",
              "        google.colab.kernel.accessAllowed ? 'block' : 'none';\n",
              "\n",
              "      async function convertToInteractive(key) {\n",
              "        const element = document.querySelector('#df-4c70abdd-d5a3-42d5-bd9f-608dcf1f50e4');\n",
              "        const dataTable =\n",
              "          await google.colab.kernel.invokeFunction('convertToInteractive',\n",
              "                                                    [key], {});\n",
              "        if (!dataTable) return;\n",
              "\n",
              "        const docLinkHtml = 'Like what you see? Visit the ' +\n",
              "          '<a target=\"_blank\" href=https://colab.research.google.com/notebooks/data_table.ipynb>data table notebook</a>'\n",
              "          + ' to learn more about interactive tables.';\n",
              "        element.innerHTML = '';\n",
              "        dataTable['output_type'] = 'display_data';\n",
              "        await google.colab.output.renderOutput(dataTable, element);\n",
              "        const docLink = document.createElement('div');\n",
              "        docLink.innerHTML = docLinkHtml;\n",
              "        element.appendChild(docLink);\n",
              "      }\n",
              "    </script>\n",
              "  </div>\n",
              "\n",
              "\n",
              "<div id=\"df-965be8f5-8087-4b8b-b3b2-b54b7077f92b\">\n",
              "  <button class=\"colab-df-quickchart\" onclick=\"quickchart('df-965be8f5-8087-4b8b-b3b2-b54b7077f92b')\"\n",
              "            title=\"Suggest charts\"\n",
              "            style=\"display:none;\">\n",
              "\n",
              "<svg xmlns=\"http://www.w3.org/2000/svg\" height=\"24px\"viewBox=\"0 0 24 24\"\n",
              "     width=\"24px\">\n",
              "    <g>\n",
              "        <path d=\"M19 3H5c-1.1 0-2 .9-2 2v14c0 1.1.9 2 2 2h14c1.1 0 2-.9 2-2V5c0-1.1-.9-2-2-2zM9 17H7v-7h2v7zm4 0h-2V7h2v10zm4 0h-2v-4h2v4z\"/>\n",
              "    </g>\n",
              "</svg>\n",
              "  </button>\n",
              "\n",
              "<style>\n",
              "  .colab-df-quickchart {\n",
              "      --bg-color: #E8F0FE;\n",
              "      --fill-color: #1967D2;\n",
              "      --hover-bg-color: #E2EBFA;\n",
              "      --hover-fill-color: #174EA6;\n",
              "      --disabled-fill-color: #AAA;\n",
              "      --disabled-bg-color: #DDD;\n",
              "  }\n",
              "\n",
              "  [theme=dark] .colab-df-quickchart {\n",
              "      --bg-color: #3B4455;\n",
              "      --fill-color: #D2E3FC;\n",
              "      --hover-bg-color: #434B5C;\n",
              "      --hover-fill-color: #FFFFFF;\n",
              "      --disabled-bg-color: #3B4455;\n",
              "      --disabled-fill-color: #666;\n",
              "  }\n",
              "\n",
              "  .colab-df-quickchart {\n",
              "    background-color: var(--bg-color);\n",
              "    border: none;\n",
              "    border-radius: 50%;\n",
              "    cursor: pointer;\n",
              "    display: none;\n",
              "    fill: var(--fill-color);\n",
              "    height: 32px;\n",
              "    padding: 0;\n",
              "    width: 32px;\n",
              "  }\n",
              "\n",
              "  .colab-df-quickchart:hover {\n",
              "    background-color: var(--hover-bg-color);\n",
              "    box-shadow: 0 1px 2px rgba(60, 64, 67, 0.3), 0 1px 3px 1px rgba(60, 64, 67, 0.15);\n",
              "    fill: var(--button-hover-fill-color);\n",
              "  }\n",
              "\n",
              "  .colab-df-quickchart-complete:disabled,\n",
              "  .colab-df-quickchart-complete:disabled:hover {\n",
              "    background-color: var(--disabled-bg-color);\n",
              "    fill: var(--disabled-fill-color);\n",
              "    box-shadow: none;\n",
              "  }\n",
              "\n",
              "  .colab-df-spinner {\n",
              "    border: 2px solid var(--fill-color);\n",
              "    border-color: transparent;\n",
              "    border-bottom-color: var(--fill-color);\n",
              "    animation:\n",
              "      spin 1s steps(1) infinite;\n",
              "  }\n",
              "\n",
              "  @keyframes spin {\n",
              "    0% {\n",
              "      border-color: transparent;\n",
              "      border-bottom-color: var(--fill-color);\n",
              "      border-left-color: var(--fill-color);\n",
              "    }\n",
              "    20% {\n",
              "      border-color: transparent;\n",
              "      border-left-color: var(--fill-color);\n",
              "      border-top-color: var(--fill-color);\n",
              "    }\n",
              "    30% {\n",
              "      border-color: transparent;\n",
              "      border-left-color: var(--fill-color);\n",
              "      border-top-color: var(--fill-color);\n",
              "      border-right-color: var(--fill-color);\n",
              "    }\n",
              "    40% {\n",
              "      border-color: transparent;\n",
              "      border-right-color: var(--fill-color);\n",
              "      border-top-color: var(--fill-color);\n",
              "    }\n",
              "    60% {\n",
              "      border-color: transparent;\n",
              "      border-right-color: var(--fill-color);\n",
              "    }\n",
              "    80% {\n",
              "      border-color: transparent;\n",
              "      border-right-color: var(--fill-color);\n",
              "      border-bottom-color: var(--fill-color);\n",
              "    }\n",
              "    90% {\n",
              "      border-color: transparent;\n",
              "      border-bottom-color: var(--fill-color);\n",
              "    }\n",
              "  }\n",
              "</style>\n",
              "\n",
              "  <script>\n",
              "    async function quickchart(key) {\n",
              "      const quickchartButtonEl =\n",
              "        document.querySelector('#' + key + ' button');\n",
              "      quickchartButtonEl.disabled = true;  // To prevent multiple clicks.\n",
              "      quickchartButtonEl.classList.add('colab-df-spinner');\n",
              "      try {\n",
              "        const charts = await google.colab.kernel.invokeFunction(\n",
              "            'suggestCharts', [key], {});\n",
              "      } catch (error) {\n",
              "        console.error('Error during call to suggestCharts:', error);\n",
              "      }\n",
              "      quickchartButtonEl.classList.remove('colab-df-spinner');\n",
              "      quickchartButtonEl.classList.add('colab-df-quickchart-complete');\n",
              "    }\n",
              "    (() => {\n",
              "      let quickchartButtonEl =\n",
              "        document.querySelector('#df-965be8f5-8087-4b8b-b3b2-b54b7077f92b button');\n",
              "      quickchartButtonEl.style.display =\n",
              "        google.colab.kernel.accessAllowed ? 'block' : 'none';\n",
              "    })();\n",
              "  </script>\n",
              "</div>\n",
              "\n",
              "    </div>\n",
              "  </div>\n"
            ],
            "application/vnd.google.colaboratory.intrinsic+json": {
              "type": "dataframe",
              "variable_name": "df_train",
              "summary": "{\n  \"name\": \"df_train\",\n  \"rows\": 22438,\n  \"fields\": [\n    {\n      \"column\": \"title\",\n      \"properties\": {\n        \"dtype\": \"string\",\n        \"num_unique_values\": 20868,\n        \"samples\": [\n          \"AIR FORCE ERROR Allowed Texas Church Gunman To Buy Guns\",\n          \"Activists or Terrorists? How Media Controls and Dictates \\u2018The Narrative\\u2019 in Burns, Oregon\",\n          \" WATCH: NRA VP Responds To Orlando Massacre Question With Unhinged Rant (VIDEO)\"\n        ],\n        \"semantic_type\": \"\",\n        \"description\": \"\"\n      }\n    },\n    {\n      \"column\": \"text\",\n      \"properties\": {\n        \"dtype\": \"string\",\n        \"num_unique_values\": 20703,\n        \"samples\": [\n          \"Many of the parents were not allowed to attend this meeting due to capacity restrictions. Why did larger venues refuse to host this controversial meeting? Were they afraid to allow American citizens to voice their concerns about the false teachings of Islam in the public schools? Are Americans and American businesses going to cower over the fear of being targeted by radical Muslims for fighting back against the indoctrination of Islam?BRENTWOOD, Tenn.   School board members in Brentwood, Tennessee received an education on the public s frustrations with Islam lessons in local schools during a radio station sponsored town hall Wednesday.Criticisms of the middle school text  My World History and Geography  centered mostly on the omission of negative aspects of the Muslim religion, and the appropriateness of the materials for students in sixth and seventh grades, Brentwood Homepage reports.The event was sponsored by Supertalk Radio and held in a  tiny room  at a Holiday Inn Express, where about 70 folks   including students, parents, teachers, lawmakers, school board members, and political pundits   huddled inside. Organizers reportedly turned some people away when the room reached capacity.Sunset Middle School seventh-grader Avery Noe pointed out during the meeting that lessons  exclude jihadist from Islam  and questioned why negative aspects of the religion aren t covered.Stewart County middle school teacher Kyle Mallory said teachers cover the materials they re given, focusing on what s expected on standardized tests, and asserted the issue with biased lessons on Islam stem from the state s textbook selection process. Mallory teaches in a different school district that rejected the  My World History and Geography  text, Fox 17 reports. Y all had a school board member from here come up to the textbook commission,  he said.  Nothing was done. It s not a teacher problem. We have (a state education) commissioner not doing her job, and I think the state legislature needs a no-confidence resolution. Mallory told Fox 17 the  My World History  text is  very biased, didn t tell the whole story. We need to make sure when we re teaching students in the classroom that we tell them the truth and the textbooks weren t,  Mallory said.Williamson County School Board member Beth Burgos told the Brentwood Homepage she joined the board because of textbook issues, and she backs a recent bill introduced by state Rep. Shelia Butt to postpone comparative religion courses until high school.Board member Susan Curlee believes the key to changing the way Islam is presented in schools, and to preventing unintentional indoctrination, lies with standardized tests. My biggest concern is testing,  she said.  When my daughter was in seventh grade, I was told they didn t want to teach Islam that way, but had to because 25 percent of the test was going to focus on Islam. As long as testing is the accountability metric, it could be this way. Curlee told Fox 17 the lessons her daughter learned about Islam while in Franklin Special School District last year presented a rosy picture of the religion, while glossing over important points. A lot of the things we hear about Mohammed and a lot of the warfare that was waged is very much sugar coated,  she said. My World History,  which is used by about 40 Tennessee school districts, also alleges Islam spreads peacefully, and that Christians and Muslims worship the same God. My concern is, are we going to be asking students on a test to potentially compromise their faith for the sake of a grade?  Curlee said.Tennessee state Sen. Jack Johnson, who also attended the town hall, told the Brentwood Homepage a lot of people share Curlee s concerns. I m concerned because I have three kids in Williamson County Schools,  Johnson said.  The possibility we could be advocating Islam in school and could be misrepresenting history had generated lots of calls and emails. I want to educate myself and learn more about it. Event organizers told the media they were forced to hold the town hall in the small Holiday Inn Express room because larger venues in the area refused to host the discussion. Via: EAG News\",\n          \"WASHINGTON (Reuters) - Donald Trump\\u2019s transition team is examining proposals for new non-nuclear sanctions on Iran, the Financial Times reported on Friday, citing congressional sources who have been in contact with the president-elect\\u2019s team. Officials with Trump\\u2019s team have been in touch with fellow Republicans in Congress, where they hold the majority, to discuss possible sanctions separate from last year\\u2019s Iran nuclear deal that could focus on its ballistic missile program or human rights, the sources told the FT. \\u201cThey (Trump team members) are already looking closely at their options \\u2014 and that very much includes non-nuclear sanctions,\\u201d a congressional official told the media outlet. The deal that was reached last year between Iran, the United States and five other world powers lifted some sanctions against Tehran in return for restrictions on its nuclear program. On the campaign trail, Trump, who takes office on Jan. 20, vowed to tear up the agreement with Iran and negotiate a better one. He also criticized sanctions that blocked U.S. companies from Iran and noted the difficulty of discarding a deal with U.N. backing. The U.S. Senate on Thursday passed a 10-year extension of sanctions against Iran that lawmakers and the Obama administration have said would not violate the nuclear agreement reached last year with Iran. On Friday, Iran threatened retaliation, saying the vote breached the deal. The measure, which passed the U.S. House of Representatives last month, now goes to the White House for President Barack Obama to sign into law. That would delay potentially tougher actions until next year. Several Republican U.S. lawmakers already have introduced proposals for additional sanctions on Iran separate from the nuclear pact or plan to do so. \\u201cThe big difference next year is that we will go from a White House that did everything it could to block these bills to a White House that will be in favor and maybe even sponsor some of these proposals,\\u201d a congressional source told the Financial Times. \",\n          \"Donald Trump wished Americans a Happy New Year by referring to millions of them as his enemies. And then there s President Obama, who did it the right way, and more.On New Year s Eve morning, Trump posted yet another insulting tweet, antagonizing the millions of Americans who despise him.Happy New Year to all, including to my many enemies and those who have fought me and lost so badly they just don t know what to do. Love!  Donald J. Trump (@realDonaldTrump) December 31, 2016Yeah, that didn t go so well, and people smacked him down hard for posting such an unpresidential message. And then just before midnight, Trump attempted a do-over.TO ALL AMERICANS-#HappyNewYear & many blessings to you all! Looking forward to a wonderful & prosperous 2017 as we work together to #MAGA?? pic.twitter.com/UaBFaoDYHe  Donald J. Trump (@realDonaldTrump) January 1, 2017But that made people even angrier, because he should have posted that message to begin with instead of the divisive one he chose. President Obama, on the other hand, celebrated the dawning of 2017 by looking back at all the progress Americans helped him achieve for this country despite eight years of Republican obstruction.As we look ahead to the future, I wanted to take a moment to look back on the remarkable progress that you made possible these past 8 years.  President Obama (@POTUS) January 1, 2017Facing the worst financial crisis in 80 years, you delivered the longest streak of job growth in our history. pic.twitter.com/Vk3PfRgZqF  President Obama (@POTUS) January 1, 2017After decades of rising health care costs, today nearly every American now has access to the financial security of affordable health care. pic.twitter.com/5e4nEcCxIM  President Obama (@POTUS) January 1, 2017We traded foreign oil for clean energy, we doubled fuel efficiency standards, & we acted on a global scale to save the one planet we ve got. pic.twitter.com/7alrOtHNIr  President Obama (@POTUS) January 1, 2017We brought home more of our troops & strengthened U.S. leadership leading with diplomacy & partnering with nations to meet global problems.  President Obama (@POTUS) January 1, 2017From realizing marriage equality to removing barriers to opportunity, we ve made history in our work to reaffirm that all are created equal.  President Obama (@POTUS) January 1, 2017And then President Obama wished Americans a Happy New Year the right way.It s been the privilege of my life to serve as your President. I look forward to standing with you as a citizen. Happy New Year everybody.  President Obama (@POTUS) January 1, 2017Adding further to Trump s humiliation, President Obama s New Year s greeting got more likes on Twitter than both of Trump s combined. In short, President Obama trumped Trump and demonstrated once again how a real president is supposed to behave. It s a shame we won t be seeing true presidential behavior again for at least four years.Featured Image: Mark Wilson via Getty Images\"\n        ],\n        \"semantic_type\": \"\",\n        \"description\": \"\"\n      }\n    },\n    {\n      \"column\": \"subject\",\n      \"properties\": {\n        \"dtype\": \"category\",\n        \"num_unique_values\": 8,\n        \"samples\": [\n          \"News\",\n          \"left-news\",\n          \"worldnews\"\n        ],\n        \"semantic_type\": \"\",\n        \"description\": \"\"\n      }\n    },\n    {\n      \"column\": \"date\",\n      \"properties\": {\n        \"dtype\": \"category\",\n        \"num_unique_values\": 2340,\n        \"samples\": [\n          \"Feb 4, 2017\",\n          \"March 21, 2017\",\n          \"May 27, 2017 \"\n        ],\n        \"semantic_type\": \"\",\n        \"description\": \"\"\n      }\n    },\n    {\n      \"column\": \"Label\",\n      \"properties\": {\n        \"dtype\": \"category\",\n        \"num_unique_values\": 2,\n        \"samples\": [\n          \"Fake\",\n          \"True\"\n        ],\n        \"semantic_type\": \"\",\n        \"description\": \"\"\n      }\n    }\n  ]\n}"
            }
          },
          "metadata": {},
          "execution_count": 19
        }
      ]
    },
    {
      "cell_type": "code",
      "source": [
        "df_train.isna().sum()"
      ],
      "metadata": {
        "colab": {
          "base_uri": "https://localhost:8080/"
        },
        "id": "-FY0p2wtqkl7",
        "outputId": "d04fd8fb-f7c6-4c04-f297-3c2144dcbf82"
      },
      "execution_count": null,
      "outputs": [
        {
          "output_type": "execute_result",
          "data": {
            "text/plain": [
              "title      0\n",
              "text       0\n",
              "subject    0\n",
              "date       0\n",
              "Label      0\n",
              "dtype: int64"
            ]
          },
          "metadata": {},
          "execution_count": 20
        }
      ]
    },
    {
      "cell_type": "code",
      "source": [
        "df_train.fillna('', inplace=True)"
      ],
      "metadata": {
        "id": "VK0_wG6Jqu_B"
      },
      "execution_count": null,
      "outputs": []
    },
    {
      "cell_type": "code",
      "source": [
        "df_train.duplicated().sum()"
      ],
      "metadata": {
        "colab": {
          "base_uri": "https://localhost:8080/"
        },
        "id": "siVLwYW9q18U",
        "outputId": "98c5eedb-911b-4094-f2b4-e3855f4a270d"
      },
      "execution_count": null,
      "outputs": [
        {
          "output_type": "execute_result",
          "data": {
            "text/plain": [
              "41"
            ]
          },
          "metadata": {},
          "execution_count": 22
        }
      ]
    },
    {
      "cell_type": "code",
      "source": [
        "df_train.drop_duplicates(inplace=True)"
      ],
      "metadata": {
        "id": "O6LjJb8Lq5U3"
      },
      "execution_count": null,
      "outputs": []
    },
    {
      "cell_type": "code",
      "source": [
        "df_train.duplicated().sum()"
      ],
      "metadata": {
        "colab": {
          "base_uri": "https://localhost:8080/"
        },
        "id": "K-hLCrodq7Qa",
        "outputId": "95d1068e-571c-4e82-cfdc-74bf73e19fe2"
      },
      "execution_count": null,
      "outputs": [
        {
          "output_type": "execute_result",
          "data": {
            "text/plain": [
              "0"
            ]
          },
          "metadata": {},
          "execution_count": 24
        }
      ]
    },
    {
      "cell_type": "code",
      "source": [
        "df_train.reset_index(inplace=True)"
      ],
      "metadata": {
        "id": "057jCuugq8zy"
      },
      "execution_count": null,
      "outputs": []
    },
    {
      "cell_type": "code",
      "source": [
        "df_train"
      ],
      "metadata": {
        "colab": {
          "base_uri": "https://localhost:8080/",
          "height": 597
        },
        "id": "L1_ao9OGq-V5",
        "outputId": "054efcde-0b1e-4479-cf54-c9012ab048f2"
      },
      "execution_count": null,
      "outputs": [
        {
          "output_type": "execute_result",
          "data": {
            "text/plain": [
              "       index                                              title  \\\n",
              "0      11883  Colombia names new peace negotiator with ELN, ...   \n",
              "1       8922   This Incredibly Powerful Statement From A Tee...   \n",
              "2       4088   Donald Trump Jr. Says Bragging About Sexual A...   \n",
              "3       5056   Trump talks infrastructure with Musk, developers   \n",
              "4      13529  WATCH: GEORGE W. BUSH Offers Somber Memorial H...   \n",
              "...      ...                                                ...   \n",
              "22392  22721  Digisexual Robot Pimps, Swamp Chess, Hollywood...   \n",
              "22393  18635  ABC Shuts Down Conservative Tim Allen’s “Last ...   \n",
              "22394  18316  Iran sentences member of nuclear negotiating t...   \n",
              "22395   8132   DNC Hilariously Matches Republican Voters Wit...   \n",
              "22396    299  Justice Department seeks warrant to seize anci...   \n",
              "\n",
              "                                                    text       subject  \\\n",
              "0      BOGOTA (Reuters) - Colombia s President Juan M...     worldnews   \n",
              "1      When we think of school shootings, we often th...          News   \n",
              "2      Donald Trump Jr. tried in vain to brush off hi...          News   \n",
              "3      WASHINGTON (Reuters) - U.S. President Donald T...  politicsNews   \n",
              "4      These two Presidents could not be more differe...      politics   \n",
              "...                                                  ...           ...   \n",
              "22392  Tune in to the Alternate Current Radio Network...   Middle-east   \n",
              "22393  Tim Allen s hit sitcom  Last Man Standing  has...     left-news   \n",
              "22394  LONDON (Reuters) - Iranian authorities sentenc...     worldnews   \n",
              "22395  Are you a Republican? Are you tired of trying ...          News   \n",
              "22396  WASHINGTON (Reuters) - The U.S. Justice Depart...  politicsNews   \n",
              "\n",
              "                     date Label  \n",
              "0      December 19, 2017   True  \n",
              "1         January 6, 2016  Fake  \n",
              "2        October 22, 2016  Fake  \n",
              "3          March 8, 2017   True  \n",
              "4            Jul 12, 2016  Fake  \n",
              "...                   ...   ...  \n",
              "22392   November 30, 2017  Fake  \n",
              "22393        May 13, 2017  Fake  \n",
              "22394    October 4, 2017   True  \n",
              "22395   February 13, 2016  Fake  \n",
              "22396   December 6, 2017   True  \n",
              "\n",
              "[22397 rows x 6 columns]"
            ],
            "text/html": [
              "\n",
              "  <div id=\"df-4ed3b6a2-64e1-4955-a1db-257226329ddc\" class=\"colab-df-container\">\n",
              "    <div>\n",
              "<style scoped>\n",
              "    .dataframe tbody tr th:only-of-type {\n",
              "        vertical-align: middle;\n",
              "    }\n",
              "\n",
              "    .dataframe tbody tr th {\n",
              "        vertical-align: top;\n",
              "    }\n",
              "\n",
              "    .dataframe thead th {\n",
              "        text-align: right;\n",
              "    }\n",
              "</style>\n",
              "<table border=\"1\" class=\"dataframe\">\n",
              "  <thead>\n",
              "    <tr style=\"text-align: right;\">\n",
              "      <th></th>\n",
              "      <th>index</th>\n",
              "      <th>title</th>\n",
              "      <th>text</th>\n",
              "      <th>subject</th>\n",
              "      <th>date</th>\n",
              "      <th>Label</th>\n",
              "    </tr>\n",
              "  </thead>\n",
              "  <tbody>\n",
              "    <tr>\n",
              "      <th>0</th>\n",
              "      <td>11883</td>\n",
              "      <td>Colombia names new peace negotiator with ELN, ...</td>\n",
              "      <td>BOGOTA (Reuters) - Colombia s President Juan M...</td>\n",
              "      <td>worldnews</td>\n",
              "      <td>December 19, 2017</td>\n",
              "      <td>True</td>\n",
              "    </tr>\n",
              "    <tr>\n",
              "      <th>1</th>\n",
              "      <td>8922</td>\n",
              "      <td>This Incredibly Powerful Statement From A Tee...</td>\n",
              "      <td>When we think of school shootings, we often th...</td>\n",
              "      <td>News</td>\n",
              "      <td>January 6, 2016</td>\n",
              "      <td>Fake</td>\n",
              "    </tr>\n",
              "    <tr>\n",
              "      <th>2</th>\n",
              "      <td>4088</td>\n",
              "      <td>Donald Trump Jr. Says Bragging About Sexual A...</td>\n",
              "      <td>Donald Trump Jr. tried in vain to brush off hi...</td>\n",
              "      <td>News</td>\n",
              "      <td>October 22, 2016</td>\n",
              "      <td>Fake</td>\n",
              "    </tr>\n",
              "    <tr>\n",
              "      <th>3</th>\n",
              "      <td>5056</td>\n",
              "      <td>Trump talks infrastructure with Musk, developers</td>\n",
              "      <td>WASHINGTON (Reuters) - U.S. President Donald T...</td>\n",
              "      <td>politicsNews</td>\n",
              "      <td>March 8, 2017</td>\n",
              "      <td>True</td>\n",
              "    </tr>\n",
              "    <tr>\n",
              "      <th>4</th>\n",
              "      <td>13529</td>\n",
              "      <td>WATCH: GEORGE W. BUSH Offers Somber Memorial H...</td>\n",
              "      <td>These two Presidents could not be more differe...</td>\n",
              "      <td>politics</td>\n",
              "      <td>Jul 12, 2016</td>\n",
              "      <td>Fake</td>\n",
              "    </tr>\n",
              "    <tr>\n",
              "      <th>...</th>\n",
              "      <td>...</td>\n",
              "      <td>...</td>\n",
              "      <td>...</td>\n",
              "      <td>...</td>\n",
              "      <td>...</td>\n",
              "      <td>...</td>\n",
              "    </tr>\n",
              "    <tr>\n",
              "      <th>22392</th>\n",
              "      <td>22721</td>\n",
              "      <td>Digisexual Robot Pimps, Swamp Chess, Hollywood...</td>\n",
              "      <td>Tune in to the Alternate Current Radio Network...</td>\n",
              "      <td>Middle-east</td>\n",
              "      <td>November 30, 2017</td>\n",
              "      <td>Fake</td>\n",
              "    </tr>\n",
              "    <tr>\n",
              "      <th>22393</th>\n",
              "      <td>18635</td>\n",
              "      <td>ABC Shuts Down Conservative Tim Allen’s “Last ...</td>\n",
              "      <td>Tim Allen s hit sitcom  Last Man Standing  has...</td>\n",
              "      <td>left-news</td>\n",
              "      <td>May 13, 2017</td>\n",
              "      <td>Fake</td>\n",
              "    </tr>\n",
              "    <tr>\n",
              "      <th>22394</th>\n",
              "      <td>18316</td>\n",
              "      <td>Iran sentences member of nuclear negotiating t...</td>\n",
              "      <td>LONDON (Reuters) - Iranian authorities sentenc...</td>\n",
              "      <td>worldnews</td>\n",
              "      <td>October 4, 2017</td>\n",
              "      <td>True</td>\n",
              "    </tr>\n",
              "    <tr>\n",
              "      <th>22395</th>\n",
              "      <td>8132</td>\n",
              "      <td>DNC Hilariously Matches Republican Voters Wit...</td>\n",
              "      <td>Are you a Republican? Are you tired of trying ...</td>\n",
              "      <td>News</td>\n",
              "      <td>February 13, 2016</td>\n",
              "      <td>Fake</td>\n",
              "    </tr>\n",
              "    <tr>\n",
              "      <th>22396</th>\n",
              "      <td>299</td>\n",
              "      <td>Justice Department seeks warrant to seize anci...</td>\n",
              "      <td>WASHINGTON (Reuters) - The U.S. Justice Depart...</td>\n",
              "      <td>politicsNews</td>\n",
              "      <td>December 6, 2017</td>\n",
              "      <td>True</td>\n",
              "    </tr>\n",
              "  </tbody>\n",
              "</table>\n",
              "<p>22397 rows × 6 columns</p>\n",
              "</div>\n",
              "    <div class=\"colab-df-buttons\">\n",
              "\n",
              "  <div class=\"colab-df-container\">\n",
              "    <button class=\"colab-df-convert\" onclick=\"convertToInteractive('df-4ed3b6a2-64e1-4955-a1db-257226329ddc')\"\n",
              "            title=\"Convert this dataframe to an interactive table.\"\n",
              "            style=\"display:none;\">\n",
              "\n",
              "  <svg xmlns=\"http://www.w3.org/2000/svg\" height=\"24px\" viewBox=\"0 -960 960 960\">\n",
              "    <path d=\"M120-120v-720h720v720H120Zm60-500h600v-160H180v160Zm220 220h160v-160H400v160Zm0 220h160v-160H400v160ZM180-400h160v-160H180v160Zm440 0h160v-160H620v160ZM180-180h160v-160H180v160Zm440 0h160v-160H620v160Z\"/>\n",
              "  </svg>\n",
              "    </button>\n",
              "\n",
              "  <style>\n",
              "    .colab-df-container {\n",
              "      display:flex;\n",
              "      gap: 12px;\n",
              "    }\n",
              "\n",
              "    .colab-df-convert {\n",
              "      background-color: #E8F0FE;\n",
              "      border: none;\n",
              "      border-radius: 50%;\n",
              "      cursor: pointer;\n",
              "      display: none;\n",
              "      fill: #1967D2;\n",
              "      height: 32px;\n",
              "      padding: 0 0 0 0;\n",
              "      width: 32px;\n",
              "    }\n",
              "\n",
              "    .colab-df-convert:hover {\n",
              "      background-color: #E2EBFA;\n",
              "      box-shadow: 0px 1px 2px rgba(60, 64, 67, 0.3), 0px 1px 3px 1px rgba(60, 64, 67, 0.15);\n",
              "      fill: #174EA6;\n",
              "    }\n",
              "\n",
              "    .colab-df-buttons div {\n",
              "      margin-bottom: 4px;\n",
              "    }\n",
              "\n",
              "    [theme=dark] .colab-df-convert {\n",
              "      background-color: #3B4455;\n",
              "      fill: #D2E3FC;\n",
              "    }\n",
              "\n",
              "    [theme=dark] .colab-df-convert:hover {\n",
              "      background-color: #434B5C;\n",
              "      box-shadow: 0px 1px 3px 1px rgba(0, 0, 0, 0.15);\n",
              "      filter: drop-shadow(0px 1px 2px rgba(0, 0, 0, 0.3));\n",
              "      fill: #FFFFFF;\n",
              "    }\n",
              "  </style>\n",
              "\n",
              "    <script>\n",
              "      const buttonEl =\n",
              "        document.querySelector('#df-4ed3b6a2-64e1-4955-a1db-257226329ddc button.colab-df-convert');\n",
              "      buttonEl.style.display =\n",
              "        google.colab.kernel.accessAllowed ? 'block' : 'none';\n",
              "\n",
              "      async function convertToInteractive(key) {\n",
              "        const element = document.querySelector('#df-4ed3b6a2-64e1-4955-a1db-257226329ddc');\n",
              "        const dataTable =\n",
              "          await google.colab.kernel.invokeFunction('convertToInteractive',\n",
              "                                                    [key], {});\n",
              "        if (!dataTable) return;\n",
              "\n",
              "        const docLinkHtml = 'Like what you see? Visit the ' +\n",
              "          '<a target=\"_blank\" href=https://colab.research.google.com/notebooks/data_table.ipynb>data table notebook</a>'\n",
              "          + ' to learn more about interactive tables.';\n",
              "        element.innerHTML = '';\n",
              "        dataTable['output_type'] = 'display_data';\n",
              "        await google.colab.output.renderOutput(dataTable, element);\n",
              "        const docLink = document.createElement('div');\n",
              "        docLink.innerHTML = docLinkHtml;\n",
              "        element.appendChild(docLink);\n",
              "      }\n",
              "    </script>\n",
              "  </div>\n",
              "\n",
              "\n",
              "<div id=\"df-ea30a165-bf02-4f43-990a-fac42605bd17\">\n",
              "  <button class=\"colab-df-quickchart\" onclick=\"quickchart('df-ea30a165-bf02-4f43-990a-fac42605bd17')\"\n",
              "            title=\"Suggest charts\"\n",
              "            style=\"display:none;\">\n",
              "\n",
              "<svg xmlns=\"http://www.w3.org/2000/svg\" height=\"24px\"viewBox=\"0 0 24 24\"\n",
              "     width=\"24px\">\n",
              "    <g>\n",
              "        <path d=\"M19 3H5c-1.1 0-2 .9-2 2v14c0 1.1.9 2 2 2h14c1.1 0 2-.9 2-2V5c0-1.1-.9-2-2-2zM9 17H7v-7h2v7zm4 0h-2V7h2v10zm4 0h-2v-4h2v4z\"/>\n",
              "    </g>\n",
              "</svg>\n",
              "  </button>\n",
              "\n",
              "<style>\n",
              "  .colab-df-quickchart {\n",
              "      --bg-color: #E8F0FE;\n",
              "      --fill-color: #1967D2;\n",
              "      --hover-bg-color: #E2EBFA;\n",
              "      --hover-fill-color: #174EA6;\n",
              "      --disabled-fill-color: #AAA;\n",
              "      --disabled-bg-color: #DDD;\n",
              "  }\n",
              "\n",
              "  [theme=dark] .colab-df-quickchart {\n",
              "      --bg-color: #3B4455;\n",
              "      --fill-color: #D2E3FC;\n",
              "      --hover-bg-color: #434B5C;\n",
              "      --hover-fill-color: #FFFFFF;\n",
              "      --disabled-bg-color: #3B4455;\n",
              "      --disabled-fill-color: #666;\n",
              "  }\n",
              "\n",
              "  .colab-df-quickchart {\n",
              "    background-color: var(--bg-color);\n",
              "    border: none;\n",
              "    border-radius: 50%;\n",
              "    cursor: pointer;\n",
              "    display: none;\n",
              "    fill: var(--fill-color);\n",
              "    height: 32px;\n",
              "    padding: 0;\n",
              "    width: 32px;\n",
              "  }\n",
              "\n",
              "  .colab-df-quickchart:hover {\n",
              "    background-color: var(--hover-bg-color);\n",
              "    box-shadow: 0 1px 2px rgba(60, 64, 67, 0.3), 0 1px 3px 1px rgba(60, 64, 67, 0.15);\n",
              "    fill: var(--button-hover-fill-color);\n",
              "  }\n",
              "\n",
              "  .colab-df-quickchart-complete:disabled,\n",
              "  .colab-df-quickchart-complete:disabled:hover {\n",
              "    background-color: var(--disabled-bg-color);\n",
              "    fill: var(--disabled-fill-color);\n",
              "    box-shadow: none;\n",
              "  }\n",
              "\n",
              "  .colab-df-spinner {\n",
              "    border: 2px solid var(--fill-color);\n",
              "    border-color: transparent;\n",
              "    border-bottom-color: var(--fill-color);\n",
              "    animation:\n",
              "      spin 1s steps(1) infinite;\n",
              "  }\n",
              "\n",
              "  @keyframes spin {\n",
              "    0% {\n",
              "      border-color: transparent;\n",
              "      border-bottom-color: var(--fill-color);\n",
              "      border-left-color: var(--fill-color);\n",
              "    }\n",
              "    20% {\n",
              "      border-color: transparent;\n",
              "      border-left-color: var(--fill-color);\n",
              "      border-top-color: var(--fill-color);\n",
              "    }\n",
              "    30% {\n",
              "      border-color: transparent;\n",
              "      border-left-color: var(--fill-color);\n",
              "      border-top-color: var(--fill-color);\n",
              "      border-right-color: var(--fill-color);\n",
              "    }\n",
              "    40% {\n",
              "      border-color: transparent;\n",
              "      border-right-color: var(--fill-color);\n",
              "      border-top-color: var(--fill-color);\n",
              "    }\n",
              "    60% {\n",
              "      border-color: transparent;\n",
              "      border-right-color: var(--fill-color);\n",
              "    }\n",
              "    80% {\n",
              "      border-color: transparent;\n",
              "      border-right-color: var(--fill-color);\n",
              "      border-bottom-color: var(--fill-color);\n",
              "    }\n",
              "    90% {\n",
              "      border-color: transparent;\n",
              "      border-bottom-color: var(--fill-color);\n",
              "    }\n",
              "  }\n",
              "</style>\n",
              "\n",
              "  <script>\n",
              "    async function quickchart(key) {\n",
              "      const quickchartButtonEl =\n",
              "        document.querySelector('#' + key + ' button');\n",
              "      quickchartButtonEl.disabled = true;  // To prevent multiple clicks.\n",
              "      quickchartButtonEl.classList.add('colab-df-spinner');\n",
              "      try {\n",
              "        const charts = await google.colab.kernel.invokeFunction(\n",
              "            'suggestCharts', [key], {});\n",
              "      } catch (error) {\n",
              "        console.error('Error during call to suggestCharts:', error);\n",
              "      }\n",
              "      quickchartButtonEl.classList.remove('colab-df-spinner');\n",
              "      quickchartButtonEl.classList.add('colab-df-quickchart-complete');\n",
              "    }\n",
              "    (() => {\n",
              "      let quickchartButtonEl =\n",
              "        document.querySelector('#df-ea30a165-bf02-4f43-990a-fac42605bd17 button');\n",
              "      quickchartButtonEl.style.display =\n",
              "        google.colab.kernel.accessAllowed ? 'block' : 'none';\n",
              "    })();\n",
              "  </script>\n",
              "</div>\n",
              "\n",
              "  <div id=\"id_af957327-c008-4aca-ae7e-017d9c9e197b\">\n",
              "    <style>\n",
              "      .colab-df-generate {\n",
              "        background-color: #E8F0FE;\n",
              "        border: none;\n",
              "        border-radius: 50%;\n",
              "        cursor: pointer;\n",
              "        display: none;\n",
              "        fill: #1967D2;\n",
              "        height: 32px;\n",
              "        padding: 0 0 0 0;\n",
              "        width: 32px;\n",
              "      }\n",
              "\n",
              "      .colab-df-generate:hover {\n",
              "        background-color: #E2EBFA;\n",
              "        box-shadow: 0px 1px 2px rgba(60, 64, 67, 0.3), 0px 1px 3px 1px rgba(60, 64, 67, 0.15);\n",
              "        fill: #174EA6;\n",
              "      }\n",
              "\n",
              "      [theme=dark] .colab-df-generate {\n",
              "        background-color: #3B4455;\n",
              "        fill: #D2E3FC;\n",
              "      }\n",
              "\n",
              "      [theme=dark] .colab-df-generate:hover {\n",
              "        background-color: #434B5C;\n",
              "        box-shadow: 0px 1px 3px 1px rgba(0, 0, 0, 0.15);\n",
              "        filter: drop-shadow(0px 1px 2px rgba(0, 0, 0, 0.3));\n",
              "        fill: #FFFFFF;\n",
              "      }\n",
              "    </style>\n",
              "    <button class=\"colab-df-generate\" onclick=\"generateWithVariable('df_train')\"\n",
              "            title=\"Generate code using this dataframe.\"\n",
              "            style=\"display:none;\">\n",
              "\n",
              "  <svg xmlns=\"http://www.w3.org/2000/svg\" height=\"24px\"viewBox=\"0 0 24 24\"\n",
              "       width=\"24px\">\n",
              "    <path d=\"M7,19H8.4L18.45,9,17,7.55,7,17.6ZM5,21V16.75L18.45,3.32a2,2,0,0,1,2.83,0l1.4,1.43a1.91,1.91,0,0,1,.58,1.4,1.91,1.91,0,0,1-.58,1.4L9.25,21ZM18.45,9,17,7.55Zm-12,3A5.31,5.31,0,0,0,4.9,8.1,5.31,5.31,0,0,0,1,6.5,5.31,5.31,0,0,0,4.9,4.9,5.31,5.31,0,0,0,6.5,1,5.31,5.31,0,0,0,8.1,4.9,5.31,5.31,0,0,0,12,6.5,5.46,5.46,0,0,0,6.5,12Z\"/>\n",
              "  </svg>\n",
              "    </button>\n",
              "    <script>\n",
              "      (() => {\n",
              "      const buttonEl =\n",
              "        document.querySelector('#id_af957327-c008-4aca-ae7e-017d9c9e197b button.colab-df-generate');\n",
              "      buttonEl.style.display =\n",
              "        google.colab.kernel.accessAllowed ? 'block' : 'none';\n",
              "\n",
              "      buttonEl.onclick = () => {\n",
              "        google.colab.notebook.generateWithVariable('df_train');\n",
              "      }\n",
              "      })();\n",
              "    </script>\n",
              "  </div>\n",
              "\n",
              "    </div>\n",
              "  </div>\n"
            ],
            "application/vnd.google.colaboratory.intrinsic+json": {
              "type": "dataframe",
              "variable_name": "df_train",
              "summary": "{\n  \"name\": \"df_train\",\n  \"rows\": 22397,\n  \"fields\": [\n    {\n      \"column\": \"index\",\n      \"properties\": {\n        \"dtype\": \"number\",\n        \"std\": 6542,\n        \"min\": 2,\n        \"max\": 23480,\n        \"num_unique_values\": 17062,\n        \"samples\": [\n          9252,\n          10363,\n          17521\n        ],\n        \"semantic_type\": \"\",\n        \"description\": \"\"\n      }\n    },\n    {\n      \"column\": \"title\",\n      \"properties\": {\n        \"dtype\": \"string\",\n        \"num_unique_values\": 20868,\n        \"samples\": [\n          \"AIR FORCE ERROR Allowed Texas Church Gunman To Buy Guns\",\n          \"Activists or Terrorists? How Media Controls and Dictates \\u2018The Narrative\\u2019 in Burns, Oregon\",\n          \" WATCH: NRA VP Responds To Orlando Massacre Question With Unhinged Rant (VIDEO)\"\n        ],\n        \"semantic_type\": \"\",\n        \"description\": \"\"\n      }\n    },\n    {\n      \"column\": \"text\",\n      \"properties\": {\n        \"dtype\": \"string\",\n        \"num_unique_values\": 20703,\n        \"samples\": [\n          \"Many of the parents were not allowed to attend this meeting due to capacity restrictions. Why did larger venues refuse to host this controversial meeting? Were they afraid to allow American citizens to voice their concerns about the false teachings of Islam in the public schools? Are Americans and American businesses going to cower over the fear of being targeted by radical Muslims for fighting back against the indoctrination of Islam?BRENTWOOD, Tenn.   School board members in Brentwood, Tennessee received an education on the public s frustrations with Islam lessons in local schools during a radio station sponsored town hall Wednesday.Criticisms of the middle school text  My World History and Geography  centered mostly on the omission of negative aspects of the Muslim religion, and the appropriateness of the materials for students in sixth and seventh grades, Brentwood Homepage reports.The event was sponsored by Supertalk Radio and held in a  tiny room  at a Holiday Inn Express, where about 70 folks   including students, parents, teachers, lawmakers, school board members, and political pundits   huddled inside. Organizers reportedly turned some people away when the room reached capacity.Sunset Middle School seventh-grader Avery Noe pointed out during the meeting that lessons  exclude jihadist from Islam  and questioned why negative aspects of the religion aren t covered.Stewart County middle school teacher Kyle Mallory said teachers cover the materials they re given, focusing on what s expected on standardized tests, and asserted the issue with biased lessons on Islam stem from the state s textbook selection process. Mallory teaches in a different school district that rejected the  My World History and Geography  text, Fox 17 reports. Y all had a school board member from here come up to the textbook commission,  he said.  Nothing was done. It s not a teacher problem. We have (a state education) commissioner not doing her job, and I think the state legislature needs a no-confidence resolution. Mallory told Fox 17 the  My World History  text is  very biased, didn t tell the whole story. We need to make sure when we re teaching students in the classroom that we tell them the truth and the textbooks weren t,  Mallory said.Williamson County School Board member Beth Burgos told the Brentwood Homepage she joined the board because of textbook issues, and she backs a recent bill introduced by state Rep. Shelia Butt to postpone comparative religion courses until high school.Board member Susan Curlee believes the key to changing the way Islam is presented in schools, and to preventing unintentional indoctrination, lies with standardized tests. My biggest concern is testing,  she said.  When my daughter was in seventh grade, I was told they didn t want to teach Islam that way, but had to because 25 percent of the test was going to focus on Islam. As long as testing is the accountability metric, it could be this way. Curlee told Fox 17 the lessons her daughter learned about Islam while in Franklin Special School District last year presented a rosy picture of the religion, while glossing over important points. A lot of the things we hear about Mohammed and a lot of the warfare that was waged is very much sugar coated,  she said. My World History,  which is used by about 40 Tennessee school districts, also alleges Islam spreads peacefully, and that Christians and Muslims worship the same God. My concern is, are we going to be asking students on a test to potentially compromise their faith for the sake of a grade?  Curlee said.Tennessee state Sen. Jack Johnson, who also attended the town hall, told the Brentwood Homepage a lot of people share Curlee s concerns. I m concerned because I have three kids in Williamson County Schools,  Johnson said.  The possibility we could be advocating Islam in school and could be misrepresenting history had generated lots of calls and emails. I want to educate myself and learn more about it. Event organizers told the media they were forced to hold the town hall in the small Holiday Inn Express room because larger venues in the area refused to host the discussion. Via: EAG News\",\n          \"WASHINGTON (Reuters) - Donald Trump\\u2019s transition team is examining proposals for new non-nuclear sanctions on Iran, the Financial Times reported on Friday, citing congressional sources who have been in contact with the president-elect\\u2019s team. Officials with Trump\\u2019s team have been in touch with fellow Republicans in Congress, where they hold the majority, to discuss possible sanctions separate from last year\\u2019s Iran nuclear deal that could focus on its ballistic missile program or human rights, the sources told the FT. \\u201cThey (Trump team members) are already looking closely at their options \\u2014 and that very much includes non-nuclear sanctions,\\u201d a congressional official told the media outlet. The deal that was reached last year between Iran, the United States and five other world powers lifted some sanctions against Tehran in return for restrictions on its nuclear program. On the campaign trail, Trump, who takes office on Jan. 20, vowed to tear up the agreement with Iran and negotiate a better one. He also criticized sanctions that blocked U.S. companies from Iran and noted the difficulty of discarding a deal with U.N. backing. The U.S. Senate on Thursday passed a 10-year extension of sanctions against Iran that lawmakers and the Obama administration have said would not violate the nuclear agreement reached last year with Iran. On Friday, Iran threatened retaliation, saying the vote breached the deal. The measure, which passed the U.S. House of Representatives last month, now goes to the White House for President Barack Obama to sign into law. That would delay potentially tougher actions until next year. Several Republican U.S. lawmakers already have introduced proposals for additional sanctions on Iran separate from the nuclear pact or plan to do so. \\u201cThe big difference next year is that we will go from a White House that did everything it could to block these bills to a White House that will be in favor and maybe even sponsor some of these proposals,\\u201d a congressional source told the Financial Times. \",\n          \"Donald Trump wished Americans a Happy New Year by referring to millions of them as his enemies. And then there s President Obama, who did it the right way, and more.On New Year s Eve morning, Trump posted yet another insulting tweet, antagonizing the millions of Americans who despise him.Happy New Year to all, including to my many enemies and those who have fought me and lost so badly they just don t know what to do. Love!  Donald J. Trump (@realDonaldTrump) December 31, 2016Yeah, that didn t go so well, and people smacked him down hard for posting such an unpresidential message. And then just before midnight, Trump attempted a do-over.TO ALL AMERICANS-#HappyNewYear & many blessings to you all! Looking forward to a wonderful & prosperous 2017 as we work together to #MAGA?? pic.twitter.com/UaBFaoDYHe  Donald J. Trump (@realDonaldTrump) January 1, 2017But that made people even angrier, because he should have posted that message to begin with instead of the divisive one he chose. President Obama, on the other hand, celebrated the dawning of 2017 by looking back at all the progress Americans helped him achieve for this country despite eight years of Republican obstruction.As we look ahead to the future, I wanted to take a moment to look back on the remarkable progress that you made possible these past 8 years.  President Obama (@POTUS) January 1, 2017Facing the worst financial crisis in 80 years, you delivered the longest streak of job growth in our history. pic.twitter.com/Vk3PfRgZqF  President Obama (@POTUS) January 1, 2017After decades of rising health care costs, today nearly every American now has access to the financial security of affordable health care. pic.twitter.com/5e4nEcCxIM  President Obama (@POTUS) January 1, 2017We traded foreign oil for clean energy, we doubled fuel efficiency standards, & we acted on a global scale to save the one planet we ve got. pic.twitter.com/7alrOtHNIr  President Obama (@POTUS) January 1, 2017We brought home more of our troops & strengthened U.S. leadership leading with diplomacy & partnering with nations to meet global problems.  President Obama (@POTUS) January 1, 2017From realizing marriage equality to removing barriers to opportunity, we ve made history in our work to reaffirm that all are created equal.  President Obama (@POTUS) January 1, 2017And then President Obama wished Americans a Happy New Year the right way.It s been the privilege of my life to serve as your President. I look forward to standing with you as a citizen. Happy New Year everybody.  President Obama (@POTUS) January 1, 2017Adding further to Trump s humiliation, President Obama s New Year s greeting got more likes on Twitter than both of Trump s combined. In short, President Obama trumped Trump and demonstrated once again how a real president is supposed to behave. It s a shame we won t be seeing true presidential behavior again for at least four years.Featured Image: Mark Wilson via Getty Images\"\n        ],\n        \"semantic_type\": \"\",\n        \"description\": \"\"\n      }\n    },\n    {\n      \"column\": \"subject\",\n      \"properties\": {\n        \"dtype\": \"category\",\n        \"num_unique_values\": 8,\n        \"samples\": [\n          \"News\",\n          \"left-news\",\n          \"worldnews\"\n        ],\n        \"semantic_type\": \"\",\n        \"description\": \"\"\n      }\n    },\n    {\n      \"column\": \"date\",\n      \"properties\": {\n        \"dtype\": \"category\",\n        \"num_unique_values\": 2340,\n        \"samples\": [\n          \"Feb 4, 2017\",\n          \"March 21, 2017\",\n          \"May 27, 2017 \"\n        ],\n        \"semantic_type\": \"\",\n        \"description\": \"\"\n      }\n    },\n    {\n      \"column\": \"Label\",\n      \"properties\": {\n        \"dtype\": \"category\",\n        \"num_unique_values\": 2,\n        \"samples\": [\n          \"Fake\",\n          \"True\"\n        ],\n        \"semantic_type\": \"\",\n        \"description\": \"\"\n      }\n    }\n  ]\n}"
            }
          },
          "metadata": {},
          "execution_count": 26
        }
      ]
    },
    {
      "cell_type": "code",
      "source": [
        "def reuters_removal(text):\n",
        "    reuters_text=''\n",
        "    reuters_text= text.split()\n",
        "    reuters_text= [word for word in reuters_text if not word==\"(Reuters)\"]\n",
        "    reuters_text= [word for word in reuters_text if not word==\"Reuters\"]\n",
        "    reuters_text= \" \".join(reuters_text)\n",
        "    return reuters_text"
      ],
      "metadata": {
        "id": "6HUF-324rGv9"
      },
      "execution_count": null,
      "outputs": []
    },
    {
      "cell_type": "code",
      "source": [
        "df_train['text']=df_train['text'].apply(reuters_removal)"
      ],
      "metadata": {
        "id": "SRskZVDDrQWJ"
      },
      "execution_count": null,
      "outputs": []
    },
    {
      "cell_type": "code",
      "source": [
        "j=0\n",
        "for i in df_train.loc[df_train['Label']==\"True\", 'text']:\n",
        "    if '(Reuters)' in i:\n",
        "        j+=1\n",
        "\n",
        "j"
      ],
      "metadata": {
        "colab": {
          "base_uri": "https://localhost:8080/"
        },
        "id": "G-CmRp_CrT17",
        "outputId": "188d07f8-bf8e-48b4-a6dc-aec4c17801a5"
      },
      "execution_count": null,
      "outputs": [
        {
          "output_type": "execute_result",
          "data": {
            "text/plain": [
              "6"
            ]
          },
          "metadata": {},
          "execution_count": 29
        }
      ]
    },
    {
      "cell_type": "code",
      "source": [
        "sbs.histplot(x='Label', hue='Label',data=df_train)\n",
        "plt.title('News Label Frequency')\n",
        "plt.xticks(rotation=45)\n",
        "plt.ylabel('Frequency');"
      ],
      "metadata": {
        "colab": {
          "base_uri": "https://localhost:8080/",
          "height": 490
        },
        "id": "mj4MfSq5upoB",
        "outputId": "e680791e-c94a-4b3f-961a-d52cf0417034"
      },
      "execution_count": null,
      "outputs": [
        {
          "output_type": "display_data",
          "data": {
            "text/plain": [
              "<Figure size 640x480 with 1 Axes>"
            ],
            "image/png": "[encoded data removed]"
          },
          "metadata": {}
        }
      ]
    },
    {
      "cell_type": "code",
      "source": [
        "df_top=df_train.copy()\n",
        "df_top_group=df_top.subject.value_counts()\n",
        "df_top_group"
      ],
      "metadata": {
        "colab": {
          "base_uri": "https://localhost:8080/"
        },
        "id": "BDuTp3PKu3Jd",
        "outputId": "5d5355b4-4c44-4200-e19a-af49d5cd66fa"
      },
      "execution_count": null,
      "outputs": [
        {
          "output_type": "execute_result",
          "data": {
            "text/plain": [
              "subject\n",
              "politicsNews       5624\n",
              "worldnews          5011\n",
              "News               4567\n",
              "politics           3430\n",
              "left-news          2212\n",
              "Government News     762\n",
              "Middle-east         402\n",
              "US_News             389\n",
              "Name: count, dtype: int64"
            ]
          },
          "metadata": {},
          "execution_count": 34
        }
      ]
    },
    {
      "cell_type": "code",
      "source": [
        "colors = sbs.color_palette('pastel')[0:6]\n",
        "plt.pie(df_top_group,labels=df_top.subject.unique(),autopct='%.0f%%', colors=colors)\n",
        "plt.title('Subjects Distribution')\n",
        "plt.xlabel('Subjects')\n",
        "plt.legend(df_top.subject.unique(), loc='lower left')\n",
        "plt.show();"
      ],
      "metadata": {
        "colab": {
          "base_uri": "https://localhost:8080/",
          "height": 448
        },
        "id": "EGst_il4vUYt",
        "outputId": "9fceee29-16ba-4a50-dc28-7d5b5d85f5ea"
      },
      "execution_count": null,
      "outputs": [
        {
          "output_type": "display_data",
          "data": {
            "text/plain": [
              "<Figure size 640x480 with 1 Axes>"
            ],
            "image/png": "[encoded data removed]"
          },
          "metadata": {}
        }
      ]
    },
    {
      "cell_type": "code",
      "source": [
        "top_parties = df_train['subject'].value_counts().nlargest(5).index\n",
        "df_top=df_train.copy()\n",
        "df_top.loc[~df_top['subject'].isin(top_parties), 'Party'] = 'Other'\n",
        "sbs.histplot(x='subject', hue='Label', data=df_top, stat='count')\n",
        "plt.title('Subjects Frequency')\n",
        "plt.xticks(rotation=90)\n",
        "plt.ylabel('Frequency')\n",
        "plt.show();"
      ],
      "metadata": {
        "colab": {
          "base_uri": "https://localhost:8080/",
          "height": 586
        },
        "id": "avkEeXnZwOSR",
        "outputId": "f9834920-9fdc-4fa6-c882-4324219ed0fb"
      },
      "execution_count": null,
      "outputs": [
        {
          "output_type": "display_data",
          "data": {
            "text/plain": [
              "<Figure size 640x480 with 1 Axes>"
            ],
            "image/png": "[encoded data removed]"
          },
          "metadata": {}
        }
      ]
    },
    {
      "cell_type": "code",
      "source": [
        "df_train.loc[df_train['subject']==\"politicsNews\",\"Label\"].unique()"
      ],
      "metadata": {
        "colab": {
          "base_uri": "https://localhost:8080/"
        },
        "id": "yMosY_5PxMBH",
        "outputId": "248ca582-65dc-4640-bfcb-c1bfc32e0f8a"
      },
      "execution_count": null,
      "outputs": [
        {
          "output_type": "execute_result",
          "data": {
            "text/plain": [
              "array(['True'], dtype=object)"
            ]
          },
          "metadata": {},
          "execution_count": 37
        }
      ]
    },
    {
      "cell_type": "code",
      "source": [
        "y= df_train['Label']\n",
        "X=df_train.drop(['Label', \"date\",'index'], axis=1)"
      ],
      "metadata": {
        "id": "736_3IICxYNR"
      },
      "execution_count": null,
      "outputs": []
    },
    {
      "cell_type": "code",
      "source": [
        "X"
      ],
      "metadata": {
        "colab": {
          "base_uri": "https://localhost:8080/",
          "height": 545
        },
        "id": "QACStrVlxazW",
        "outputId": "cc0c2a1c-318d-40d6-baf2-244558cbc77c"
      },
      "execution_count": null,
      "outputs": [
        {
          "output_type": "execute_result",
          "data": {
            "text/plain": [
              "                                                   title  \\\n",
              "0      Colombia names new peace negotiator with ELN, ...   \n",
              "1       This Incredibly Powerful Statement From A Tee...   \n",
              "2       Donald Trump Jr. Says Bragging About Sexual A...   \n",
              "3       Trump talks infrastructure with Musk, developers   \n",
              "4      WATCH: GEORGE W. BUSH Offers Somber Memorial H...   \n",
              "...                                                  ...   \n",
              "22392  Digisexual Robot Pimps, Swamp Chess, Hollywood...   \n",
              "22393  ABC Shuts Down Conservative Tim Allen’s “Last ...   \n",
              "22394  Iran sentences member of nuclear negotiating t...   \n",
              "22395   DNC Hilariously Matches Republican Voters Wit...   \n",
              "22396  Justice Department seeks warrant to seize anci...   \n",
              "\n",
              "                                                    text       subject  \n",
              "0      BOGOTA - Colombia s President Juan Manuel Sant...     worldnews  \n",
              "1      When we think of school shootings, we often th...          News  \n",
              "2      Donald Trump Jr. tried in vain to brush off hi...          News  \n",
              "3      WASHINGTON - U.S. President Donald Trump met w...  politicsNews  \n",
              "4      These two Presidents could not be more differe...      politics  \n",
              "...                                                  ...           ...  \n",
              "22392  Tune in to the Alternate Current Radio Network...   Middle-east  \n",
              "22393  Tim Allen s hit sitcom Last Man Standing has s...     left-news  \n",
              "22394  LONDON - Iranian authorities sentenced a membe...     worldnews  \n",
              "22395  Are you a Republican? Are you tired of trying ...          News  \n",
              "22396  WASHINGTON - The U.S. Justice Department said ...  politicsNews  \n",
              "\n",
              "[22397 rows x 3 columns]"
            ],
            "text/html": [
              "\n",
              "  <div id=\"df-e4a65868-27e7-4350-ba4d-a4c0ecd26220\" class=\"colab-df-container\">\n",
              "    <div>\n",
              "<style scoped>\n",
              "    .dataframe tbody tr th:only-of-type {\n",
              "        vertical-align: middle;\n",
              "    }\n",
              "\n",
              "    .dataframe tbody tr th {\n",
              "        vertical-align: top;\n",
              "    }\n",
              "\n",
              "    .dataframe thead th {\n",
              "        text-align: right;\n",
              "    }\n",
              "</style>\n",
              "<table border=\"1\" class=\"dataframe\">\n",
              "  <thead>\n",
              "    <tr style=\"text-align: right;\">\n",
              "      <th></th>\n",
              "      <th>title</th>\n",
              "      <th>text</th>\n",
              "      <th>subject</th>\n",
              "    </tr>\n",
              "  </thead>\n",
              "  <tbody>\n",
              "    <tr>\n",
              "      <th>0</th>\n",
              "      <td>Colombia names new peace negotiator with ELN, ...</td>\n",
              "      <td>BOGOTA - Colombia s President Juan Manuel Sant...</td>\n",
              "      <td>worldnews</td>\n",
              "    </tr>\n",
              "    <tr>\n",
              "      <th>1</th>\n",
              "      <td>This Incredibly Powerful Statement From A Tee...</td>\n",
              "      <td>When we think of school shootings, we often th...</td>\n",
              "      <td>News</td>\n",
              "    </tr>\n",
              "    <tr>\n",
              "      <th>2</th>\n",
              "      <td>Donald Trump Jr. Says Bragging About Sexual A...</td>\n",
              "      <td>Donald Trump Jr. tried in vain to brush off hi...</td>\n",
              "      <td>News</td>\n",
              "    </tr>\n",
              "    <tr>\n",
              "      <th>3</th>\n",
              "      <td>Trump talks infrastructure with Musk, developers</td>\n",
              "      <td>WASHINGTON - U.S. President Donald Trump met w...</td>\n",
              "      <td>politicsNews</td>\n",
              "    </tr>\n",
              "    <tr>\n",
              "      <th>4</th>\n",
              "      <td>WATCH: GEORGE W. BUSH Offers Somber Memorial H...</td>\n",
              "      <td>These two Presidents could not be more differe...</td>\n",
              "      <td>politics</td>\n",
              "    </tr>\n",
              "    <tr>\n",
              "      <th>...</th>\n",
              "      <td>...</td>\n",
              "      <td>...</td>\n",
              "      <td>...</td>\n",
              "    </tr>\n",
              "    <tr>\n",
              "      <th>22392</th>\n",
              "      <td>Digisexual Robot Pimps, Swamp Chess, Hollywood...</td>\n",
              "      <td>Tune in to the Alternate Current Radio Network...</td>\n",
              "      <td>Middle-east</td>\n",
              "    </tr>\n",
              "    <tr>\n",
              "      <th>22393</th>\n",
              "      <td>ABC Shuts Down Conservative Tim Allen’s “Last ...</td>\n",
              "      <td>Tim Allen s hit sitcom Last Man Standing has s...</td>\n",
              "      <td>left-news</td>\n",
              "    </tr>\n",
              "    <tr>\n",
              "      <th>22394</th>\n",
              "      <td>Iran sentences member of nuclear negotiating t...</td>\n",
              "      <td>LONDON - Iranian authorities sentenced a membe...</td>\n",
              "      <td>worldnews</td>\n",
              "    </tr>\n",
              "    <tr>\n",
              "      <th>22395</th>\n",
              "      <td>DNC Hilariously Matches Republican Voters Wit...</td>\n",
              "      <td>Are you a Republican? Are you tired of trying ...</td>\n",
              "      <td>News</td>\n",
              "    </tr>\n",
              "    <tr>\n",
              "      <th>22396</th>\n",
              "      <td>Justice Department seeks warrant to seize anci...</td>\n",
              "      <td>WASHINGTON - The U.S. Justice Department said ...</td>\n",
              "      <td>politicsNews</td>\n",
              "    </tr>\n",
              "  </tbody>\n",
              "</table>\n",
              "<p>22397 rows × 3 columns</p>\n",
              "</div>\n",
              "    <div class=\"colab-df-buttons\">\n",
              "\n",
              "  <div class=\"colab-df-container\">\n",
              "    <button class=\"colab-df-convert\" onclick=\"convertToInteractive('df-e4a65868-27e7-4350-ba4d-a4c0ecd26220')\"\n",
              "            title=\"Convert this dataframe to an interactive table.\"\n",
              "            style=\"display:none;\">\n",
              "\n",
              "  <svg xmlns=\"http://www.w3.org/2000/svg\" height=\"24px\" viewBox=\"0 -960 960 960\">\n",
              "    <path d=\"M120-120v-720h720v720H120Zm60-500h600v-160H180v160Zm220 220h160v-160H400v160Zm0 220h160v-160H400v160ZM180-400h160v-160H180v160Zm440 0h160v-160H620v160ZM180-180h160v-160H180v160Zm440 0h160v-160H620v160Z\"/>\n",
              "  </svg>\n",
              "    </button>\n",
              "\n",
              "  <style>\n",
              "    .colab-df-container {\n",
              "      display:flex;\n",
              "      gap: 12px;\n",
              "    }\n",
              "\n",
              "    .colab-df-convert {\n",
              "      background-color: #E8F0FE;\n",
              "      border: none;\n",
              "      border-radius: 50%;\n",
              "      cursor: pointer;\n",
              "      display: none;\n",
              "      fill: #1967D2;\n",
              "      height: 32px;\n",
              "      padding: 0 0 0 0;\n",
              "      width: 32px;\n",
              "    }\n",
              "\n",
              "    .colab-df-convert:hover {\n",
              "      background-color: #E2EBFA;\n",
              "      box-shadow: 0px 1px 2px rgba(60, 64, 67, 0.3), 0px 1px 3px 1px rgba(60, 64, 67, 0.15);\n",
              "      fill: #174EA6;\n",
              "    }\n",
              "\n",
              "    .colab-df-buttons div {\n",
              "      margin-bottom: 4px;\n",
              "    }\n",
              "\n",
              "    [theme=dark] .colab-df-convert {\n",
              "      background-color: #3B4455;\n",
              "      fill: #D2E3FC;\n",
              "    }\n",
              "\n",
              "    [theme=dark] .colab-df-convert:hover {\n",
              "      background-color: #434B5C;\n",
              "      box-shadow: 0px 1px 3px 1px rgba(0, 0, 0, 0.15);\n",
              "      filter: drop-shadow(0px 1px 2px rgba(0, 0, 0, 0.3));\n",
              "      fill: #FFFFFF;\n",
              "    }\n",
              "  </style>\n",
              "\n",
              "    <script>\n",
              "      const buttonEl =\n",
              "        document.querySelector('#df-e4a65868-27e7-4350-ba4d-a4c0ecd26220 button.colab-df-convert');\n",
              "      buttonEl.style.display =\n",
              "        google.colab.kernel.accessAllowed ? 'block' : 'none';\n",
              "\n",
              "      async function convertToInteractive(key) {\n",
              "        const element = document.querySelector('#df-e4a65868-27e7-4350-ba4d-a4c0ecd26220');\n",
              "        const dataTable =\n",
              "          await google.colab.kernel.invokeFunction('convertToInteractive',\n",
              "                                                    [key], {});\n",
              "        if (!dataTable) return;\n",
              "\n",
              "        const docLinkHtml = 'Like what you see? Visit the ' +\n",
              "          '<a target=\"_blank\" href=https://colab.research.google.com/notebooks/data_table.ipynb>data table notebook</a>'\n",
              "          + ' to learn more about interactive tables.';\n",
              "        element.innerHTML = '';\n",
              "        dataTable['output_type'] = 'display_data';\n",
              "        await google.colab.output.renderOutput(dataTable, element);\n",
              "        const docLink = document.createElement('div');\n",
              "        docLink.innerHTML = docLinkHtml;\n",
              "        element.appendChild(docLink);\n",
              "      }\n",
              "    </script>\n",
              "  </div>\n",
              "\n",
              "\n",
              "<div id=\"df-f57596d4-f6e6-4ef8-86c6-41daec8aa656\">\n",
              "  <button class=\"colab-df-quickchart\" onclick=\"quickchart('df-f57596d4-f6e6-4ef8-86c6-41daec8aa656')\"\n",
              "            title=\"Suggest charts\"\n",
              "            style=\"display:none;\">\n",
              "\n",
              "<svg xmlns=\"http://www.w3.org/2000/svg\" height=\"24px\"viewBox=\"0 0 24 24\"\n",
              "     width=\"24px\">\n",
              "    <g>\n",
              "        <path d=\"M19 3H5c-1.1 0-2 .9-2 2v14c0 1.1.9 2 2 2h14c1.1 0 2-.9 2-2V5c0-1.1-.9-2-2-2zM9 17H7v-7h2v7zm4 0h-2V7h2v10zm4 0h-2v-4h2v4z\"/>\n",
              "    </g>\n",
              "</svg>\n",
              "  </button>\n",
              "\n",
              "<style>\n",
              "  .colab-df-quickchart {\n",
              "      --bg-color: #E8F0FE;\n",
              "      --fill-color: #1967D2;\n",
              "      --hover-bg-color: #E2EBFA;\n",
              "      --hover-fill-color: #174EA6;\n",
              "      --disabled-fill-color: #AAA;\n",
              "      --disabled-bg-color: #DDD;\n",
              "  }\n",
              "\n",
              "  [theme=dark] .colab-df-quickchart {\n",
              "      --bg-color: #3B4455;\n",
              "      --fill-color: #D2E3FC;\n",
              "      --hover-bg-color: #434B5C;\n",
              "      --hover-fill-color: #FFFFFF;\n",
              "      --disabled-bg-color: #3B4455;\n",
              "      --disabled-fill-color: #666;\n",
              "  }\n",
              "\n",
              "  .colab-df-quickchart {\n",
              "    background-color: var(--bg-color);\n",
              "    border: none;\n",
              "    border-radius: 50%;\n",
              "    cursor: pointer;\n",
              "    display: none;\n",
              "    fill: var(--fill-color);\n",
              "    height: 32px;\n",
              "    padding: 0;\n",
              "    width: 32px;\n",
              "  }\n",
              "\n",
              "  .colab-df-quickchart:hover {\n",
              "    background-color: var(--hover-bg-color);\n",
              "    box-shadow: 0 1px 2px rgba(60, 64, 67, 0.3), 0 1px 3px 1px rgba(60, 64, 67, 0.15);\n",
              "    fill: var(--button-hover-fill-color);\n",
              "  }\n",
              "\n",
              "  .colab-df-quickchart-complete:disabled,\n",
              "  .colab-df-quickchart-complete:disabled:hover {\n",
              "    background-color: var(--disabled-bg-color);\n",
              "    fill: var(--disabled-fill-color);\n",
              "    box-shadow: none;\n",
              "  }\n",
              "\n",
              "  .colab-df-spinner {\n",
              "    border: 2px solid var(--fill-color);\n",
              "    border-color: transparent;\n",
              "    border-bottom-color: var(--fill-color);\n",
              "    animation:\n",
              "      spin 1s steps(1) infinite;\n",
              "  }\n",
              "\n",
              "  @keyframes spin {\n",
              "    0% {\n",
              "      border-color: transparent;\n",
              "      border-bottom-color: var(--fill-color);\n",
              "      border-left-color: var(--fill-color);\n",
              "    }\n",
              "    20% {\n",
              "      border-color: transparent;\n",
              "      border-left-color: var(--fill-color);\n",
              "      border-top-color: var(--fill-color);\n",
              "    }\n",
              "    30% {\n",
              "      border-color: transparent;\n",
              "      border-left-color: var(--fill-color);\n",
              "      border-top-color: var(--fill-color);\n",
              "      border-right-color: var(--fill-color);\n",
              "    }\n",
              "    40% {\n",
              "      border-color: transparent;\n",
              "      border-right-color: var(--fill-color);\n",
              "      border-top-color: var(--fill-color);\n",
              "    }\n",
              "    60% {\n",
              "      border-color: transparent;\n",
              "      border-right-color: var(--fill-color);\n",
              "    }\n",
              "    80% {\n",
              "      border-color: transparent;\n",
              "      border-right-color: var(--fill-color);\n",
              "      border-bottom-color: var(--fill-color);\n",
              "    }\n",
              "    90% {\n",
              "      border-color: transparent;\n",
              "      border-bottom-color: var(--fill-color);\n",
              "    }\n",
              "  }\n",
              "</style>\n",
              "\n",
              "  <script>\n",
              "    async function quickchart(key) {\n",
              "      const quickchartButtonEl =\n",
              "        document.querySelector('#' + key + ' button');\n",
              "      quickchartButtonEl.disabled = true;  // To prevent multiple clicks.\n",
              "      quickchartButtonEl.classList.add('colab-df-spinner');\n",
              "      try {\n",
              "        const charts = await google.colab.kernel.invokeFunction(\n",
              "            'suggestCharts', [key], {});\n",
              "      } catch (error) {\n",
              "        console.error('Error during call to suggestCharts:', error);\n",
              "      }\n",
              "      quickchartButtonEl.classList.remove('colab-df-spinner');\n",
              "      quickchartButtonEl.classList.add('colab-df-quickchart-complete');\n",
              "    }\n",
              "    (() => {\n",
              "      let quickchartButtonEl =\n",
              "        document.querySelector('#df-f57596d4-f6e6-4ef8-86c6-41daec8aa656 button');\n",
              "      quickchartButtonEl.style.display =\n",
              "        google.colab.kernel.accessAllowed ? 'block' : 'none';\n",
              "    })();\n",
              "  </script>\n",
              "</div>\n",
              "\n",
              "  <div id=\"id_f628f859-83a4-4261-9e3b-4ec0358aad64\">\n",
              "    <style>\n",
              "      .colab-df-generate {\n",
              "        background-color: #E8F0FE;\n",
              "        border: none;\n",
              "        border-radius: 50%;\n",
              "        cursor: pointer;\n",
              "        display: none;\n",
              "        fill: #1967D2;\n",
              "        height: 32px;\n",
              "        padding: 0 0 0 0;\n",
              "        width: 32px;\n",
              "      }\n",
              "\n",
              "      .colab-df-generate:hover {\n",
              "        background-color: #E2EBFA;\n",
              "        box-shadow: 0px 1px 2px rgba(60, 64, 67, 0.3), 0px 1px 3px 1px rgba(60, 64, 67, 0.15);\n",
              "        fill: #174EA6;\n",
              "      }\n",
              "\n",
              "      [theme=dark] .colab-df-generate {\n",
              "        background-color: #3B4455;\n",
              "        fill: #D2E3FC;\n",
              "      }\n",
              "\n",
              "      [theme=dark] .colab-df-generate:hover {\n",
              "        background-color: #434B5C;\n",
              "        box-shadow: 0px 1px 3px 1px rgba(0, 0, 0, 0.15);\n",
              "        filter: drop-shadow(0px 1px 2px rgba(0, 0, 0, 0.3));\n",
              "        fill: #FFFFFF;\n",
              "      }\n",
              "    </style>\n",
              "    <button class=\"colab-df-generate\" onclick=\"generateWithVariable('X')\"\n",
              "            title=\"Generate code using this dataframe.\"\n",
              "            style=\"display:none;\">\n",
              "\n",
              "  <svg xmlns=\"http://www.w3.org/2000/svg\" height=\"24px\"viewBox=\"0 0 24 24\"\n",
              "       width=\"24px\">\n",
              "    <path d=\"M7,19H8.4L18.45,9,17,7.55,7,17.6ZM5,21V16.75L18.45,3.32a2,2,0,0,1,2.83,0l1.4,1.43a1.91,1.91,0,0,1,.58,1.4,1.91,1.91,0,0,1-.58,1.4L9.25,21ZM18.45,9,17,7.55Zm-12,3A5.31,5.31,0,0,0,4.9,8.1,5.31,5.31,0,0,0,1,6.5,5.31,5.31,0,0,0,4.9,4.9,5.31,5.31,0,0,0,6.5,1,5.31,5.31,0,0,0,8.1,4.9,5.31,5.31,0,0,0,12,6.5,5.46,5.46,0,0,0,6.5,12Z\"/>\n",
              "  </svg>\n",
              "    </button>\n",
              "    <script>\n",
              "      (() => {\n",
              "      const buttonEl =\n",
              "        document.querySelector('#id_f628f859-83a4-4261-9e3b-4ec0358aad64 button.colab-df-generate');\n",
              "      buttonEl.style.display =\n",
              "        google.colab.kernel.accessAllowed ? 'block' : 'none';\n",
              "\n",
              "      buttonEl.onclick = () => {\n",
              "        google.colab.notebook.generateWithVariable('X');\n",
              "      }\n",
              "      })();\n",
              "    </script>\n",
              "  </div>\n",
              "\n",
              "    </div>\n",
              "  </div>\n"
            ],
            "application/vnd.google.colaboratory.intrinsic+json": {
              "type": "dataframe",
              "variable_name": "X",
              "summary": "{\n  \"name\": \"X\",\n  \"rows\": 22397,\n  \"fields\": [\n    {\n      \"column\": \"title\",\n      \"properties\": {\n        \"dtype\": \"string\",\n        \"num_unique_values\": 20868,\n        \"samples\": [\n          \"AIR FORCE ERROR Allowed Texas Church Gunman To Buy Guns\",\n          \"Activists or Terrorists? How Media Controls and Dictates \\u2018The Narrative\\u2019 in Burns, Oregon\",\n          \" WATCH: NRA VP Responds To Orlando Massacre Question With Unhinged Rant (VIDEO)\"\n        ],\n        \"semantic_type\": \"\",\n        \"description\": \"\"\n      }\n    },\n    {\n      \"column\": \"text\",\n      \"properties\": {\n        \"dtype\": \"string\",\n        \"num_unique_values\": 20697,\n        \"samples\": [\n          \"BELFAST - Britain on Tuesday rejected an Irish demand for a role in running Northern Ireland if parties there fail to revive a devolved power-sharing government, as unionists said concessions would lead to grave consequences for Theresa May s government. The 1998 peace deal that ended 30 years of violence in Northern Ireland between Irish nationalists and pro-British unionists provides for a consultative role for the Irish government in the running of the British region. Since January Irish nationalists Sinn Fein and the Democratic Unionist Party (DUP) have failed to reach agreement on re-establishing the devolved administration. The British government has warned it may soon have to step in to rule the province directly for the first time in a decade. Irish Foreign Minister Simon Coveney on Tuesday told journalists in Belfast that if talks to form a power-sharing government failed there can be no British-only direct rule, adding that this was Irish government policy. He did not say what kind of role he expected for the Irish government and said he was still hopeful devolved power-sharing could be rescued. In an apparent rebuff to Coveney, a British government spokesman said in a statement that London would never countenance any arrangement, such as Joint Authority, inconsistent with the principle of consent in the (Good Friday) Agreement. In the absence of devolved government, it is ultimately for the United Kingdom Government to provide the certainty over delivery of public services and good governance in Northern Ireland, as part of the United Kingdom, the statement said. DUP lawmaker Jeffrey Donaldson, whose party Prime Minister Theresa May s minority government depends on to survive, warned that his party would not accept any concessions to Dublin. Even if we have a temporary period of direct rule, the Irish Government must be clear that it must not interfere with the internal affairs of Northern Ireland and to do so would be a fundamental breach of faith, Donaldson told the Belfast Telegraph newspaper in comments published on Wednesday. If that were to happen it would have grave consequences for the stability of the government at Westminster and for the prospect of restoring devolution in Northern Ireland, he was quoted as saying.\",\n          \"WASHINGTON - The story headlined \\u201cU.S. House tax panel chairman says flexible on mortgage deduction\\u201d published at 2050 GMT is withdrawn as U.S. House tax panel chairman Kevin Brady mistook the question which referred to property tax reductions in the Republican tax reform plan announced earlier Thursday. There will be no replacement story.\",\n          \"THE SOCIALIST PRESIDENT WAS THIS GUY S TEACHER! Great encounter with someone who has experienced socialism great stuff!\"\n        ],\n        \"semantic_type\": \"\",\n        \"description\": \"\"\n      }\n    },\n    {\n      \"column\": \"subject\",\n      \"properties\": {\n        \"dtype\": \"category\",\n        \"num_unique_values\": 8,\n        \"samples\": [\n          \"News\",\n          \"left-news\",\n          \"worldnews\"\n        ],\n        \"semantic_type\": \"\",\n        \"description\": \"\"\n      }\n    }\n  ]\n}"
            }
          },
          "metadata": {},
          "execution_count": 48
        }
      ]
    },
    {
      "cell_type": "code",
      "source": [
        "y.unique()"
      ],
      "metadata": {
        "colab": {
          "base_uri": "https://localhost:8080/"
        },
        "id": "u-FY7p9Jxn79",
        "outputId": "90bfd738-28b3-4a59-b0f3-b243a4435983"
      },
      "execution_count": null,
      "outputs": [
        {
          "output_type": "execute_result",
          "data": {
            "text/plain": [
              "array(['True', 'Fake'], dtype=object)"
            ]
          },
          "metadata": {},
          "execution_count": 42
        }
      ]
    },
    {
      "cell_type": "code",
      "source": [
        "port_stemmer= PorterStemmer()"
      ],
      "metadata": {
        "id": "Gy2xw9Yly3y0"
      },
      "execution_count": null,
      "outputs": []
    },
    {
      "cell_type": "code",
      "source": [
        "import nltk\n",
        "nltk.download('stopwords')"
      ],
      "metadata": {
        "colab": {
          "base_uri": "https://localhost:8080/"
        },
        "id": "cmy0khmPzNPX",
        "outputId": "ed8496d2-f37e-4f95-c154-c53a7d18ec22"
      },
      "execution_count": null,
      "outputs": [
        {
          "output_type": "stream",
          "name": "stderr",
          "text": [
            "[nltk_data] Downloading package stopwords to /root/nltk_data...\n",
            "[nltk_data]   Unzipping corpora/stopwords.zip.\n"
          ]
        },
        {
          "output_type": "execute_result",
          "data": {
            "text/plain": [
              "True"
            ]
          },
          "metadata": {},
          "execution_count": 49
        }
      ]
    },
    {
      "cell_type": "code",
      "source": [
        "def stemmer(content):\n",
        "    stemmed_content=re.sub('[^a-zA-Z]',' ', content)\n",
        "    stemmed_content= stemmed_content.lower()\n",
        "    stemmed_content= stemmed_content.split()\n",
        "    stemmed_content= [port_stemmer.stem(word) for word in stemmed_content if not word in stopwords.words('english')]\n",
        "    stemmed_content= ' '.join(stemmed_content)\n",
        "    return stemmed_content"
      ],
      "metadata": {
        "id": "WYtlOB7AzVLl"
      },
      "execution_count": null,
      "outputs": []
    },
    {
      "cell_type": "code",
      "source": [
        "X['text']= X['text'].apply(stemmer)"
      ],
      "metadata": {
        "id": "JRCdaoYzzXam"
      },
      "execution_count": null,
      "outputs": []
    },
    {
      "cell_type": "code",
      "source": [
        "X=X['text']"
      ],
      "metadata": {
        "id": "XbvS1kSW9ksz"
      },
      "execution_count": null,
      "outputs": []
    },
    {
      "cell_type": "code",
      "source": [
        "X"
      ],
      "metadata": {
        "colab": {
          "base_uri": "https://localhost:8080/"
        },
        "id": "fjXCCzhw9oU_",
        "outputId": "0e43fa7a-2c47-4195-f373-9895403b6a32"
      },
      "execution_count": null,
      "outputs": [
        {
          "output_type": "execute_result",
          "data": {
            "text/plain": [
              "0        bogota colombia presid juan manuel santo tuesd...\n",
              "1        think school shoot often think directli involv...\n",
              "2        donald trump jr tri vain brush dad boast abl s...\n",
              "3        washington u presid donald trump met busi lead...\n",
              "4        two presid could differ georg w bush natur bor...\n",
              "                               ...                        \n",
              "22392    tune altern current radio network acr anoth li...\n",
              "22393    tim allen hit sitcom last man stand seen final...\n",
              "22394    london iranian author sentenc member iran nucl...\n",
              "22395    republican tire tri figur gop candid vote well...\n",
              "22396    washington u justic depart said wednesday seek...\n",
              "Name: text, Length: 22397, dtype: object"
            ]
          },
          "metadata": {},
          "execution_count": 54
        }
      ]
    },
    {
      "cell_type": "code",
      "source": [
        "X_train, X_test, y_train, y_test= train_test_split(X,y, test_size=0.2, random_state=40, stratify=y)"
      ],
      "metadata": {
        "id": "zouSdXPW977E"
      },
      "execution_count": null,
      "outputs": []
    },
    {
      "cell_type": "code",
      "source": [
        "vectorization = TfidfVectorizer()\n",
        "xv_train = vectorization.fit_transform(X_train)\n",
        "xv_test = vectorization.transform(X_test)"
      ],
      "metadata": {
        "id": "uqENM3t1-aNK"
      },
      "execution_count": null,
      "outputs": []
    },
    {
      "cell_type": "code",
      "source": [
        "xv_test"
      ],
      "metadata": {
        "colab": {
          "base_uri": "https://localhost:8080/"
        },
        "id": "yiLwh_fk-u69",
        "outputId": "3c4b00a1-f7a4-465a-80eb-7cad6dbdef58"
      },
      "execution_count": null,
      "outputs": [
        {
          "output_type": "execute_result",
          "data": {
            "text/plain": [
              "<4480x58012 sparse matrix of type '<class 'numpy.float64'>'\n",
              "\twith 667817 stored elements in Compressed Sparse Row format>"
            ]
          },
          "metadata": {},
          "execution_count": 57
        }
      ]
    },
    {
      "cell_type": "markdown",
      "source": [
        "TRAINING MODEL\n"
      ],
      "metadata": {
        "id": "BpYT8M-j-3V1"
      }
    },
    {
      "cell_type": "code",
      "source": [
        "rfc= RandomForestClassifier()"
      ],
      "metadata": {
        "id": "SJ9MbZax-8GZ"
      },
      "execution_count": null,
      "outputs": []
    },
    {
      "cell_type": "code",
      "source": [
        "rfc.fit(xv_train, y_train)"
      ],
      "metadata": {
        "colab": {
          "base_uri": "https://localhost:8080/",
          "height": 75
        },
        "id": "P6fMR2r4_ARR",
        "outputId": "d6894093-9711-4955-e6f6-379973ea2c21"
      },
      "execution_count": null,
      "outputs": [
        {
          "output_type": "execute_result",
          "data": {
            "text/plain": [
              "RandomForestClassifier()"
            ],
            "text/html": [
              "<style>#sk-container-id-1 {color: black;background-color: white;}#sk-container-id-1 pre{padding: 0;}#sk-container-id-1 div.sk-toggleable {background-color: white;}#sk-container-id-1 label.sk-toggleable__label {cursor: pointer;display: block;width: 100%;margin-bottom: 0;padding: 0.3em;box-sizing: border-box;text-align: center;}#sk-container-id-1 label.sk-toggleable__label-arrow:before {content: \"▸\";float: left;margin-right: 0.25em;color: #696969;}#sk-container-id-1 label.sk-toggleable__label-arrow:hover:before {color: black;}#sk-container-id-1 div.sk-estimator:hover label.sk-toggleable__label-arrow:before {color: black;}#sk-container-id-1 div.sk-toggleable__content {max-height: 0;max-width: 0;overflow: hidden;text-align: left;background-color: #f0f8ff;}#sk-container-id-1 div.sk-toggleable__content pre {margin: 0.2em;color: black;border-radius: 0.25em;background-color: #f0f8ff;}#sk-container-id-1 input.sk-toggleable__control:checked~div.sk-toggleable__content {max-height: 200px;max-width: 100%;overflow: auto;}#sk-container-id-1 input.sk-toggleable__control:checked~label.sk-toggleable__label-arrow:before {content: \"▾\";}#sk-container-id-1 div.sk-estimator input.sk-toggleable__control:checked~label.sk-toggleable__label {background-color: #d4ebff;}#sk-container-id-1 div.sk-label input.sk-toggleable__control:checked~label.sk-toggleable__label {background-color: #d4ebff;}#sk-container-id-1 input.sk-hidden--visually {border: 0;clip: rect(1px 1px 1px 1px);clip: rect(1px, 1px, 1px, 1px);height: 1px;margin: -1px;overflow: hidden;padding: 0;position: absolute;width: 1px;}#sk-container-id-1 div.sk-estimator {font-family: monospace;background-color: #f0f8ff;border: 1px dotted black;border-radius: 0.25em;box-sizing: border-box;margin-bottom: 0.5em;}#sk-container-id-1 div.sk-estimator:hover {background-color: #d4ebff;}#sk-container-id-1 div.sk-parallel-item::after {content: \"\";width: 100%;border-bottom: 1px solid gray;flex-grow: 1;}#sk-container-id-1 div.sk-label:hover label.sk-toggleable__label {background-color: #d4ebff;}#sk-container-id-1 div.sk-serial::before {content: \"\";position: absolute;border-left: 1px solid gray;box-sizing: border-box;top: 0;bottom: 0;left: 50%;z-index: 0;}#sk-container-id-1 div.sk-serial {display: flex;flex-direction: column;align-items: center;background-color: white;padding-right: 0.2em;padding-left: 0.2em;position: relative;}#sk-container-id-1 div.sk-item {position: relative;z-index: 1;}#sk-container-id-1 div.sk-parallel {display: flex;align-items: stretch;justify-content: center;background-color: white;position: relative;}#sk-container-id-1 div.sk-item::before, #sk-container-id-1 div.sk-parallel-item::before {content: \"\";position: absolute;border-left: 1px solid gray;box-sizing: border-box;top: 0;bottom: 0;left: 50%;z-index: -1;}#sk-container-id-1 div.sk-parallel-item {display: flex;flex-direction: column;z-index: 1;position: relative;background-color: white;}#sk-container-id-1 div.sk-parallel-item:first-child::after {align-self: flex-end;width: 50%;}#sk-container-id-1 div.sk-parallel-item:last-child::after {align-self: flex-start;width: 50%;}#sk-container-id-1 div.sk-parallel-item:only-child::after {width: 0;}#sk-container-id-1 div.sk-dashed-wrapped {border: 1px dashed gray;margin: 0 0.4em 0.5em 0.4em;box-sizing: border-box;padding-bottom: 0.4em;background-color: white;}#sk-container-id-1 div.sk-label label {font-family: monospace;font-weight: bold;display: inline-block;line-height: 1.2em;}#sk-container-id-1 div.sk-label-container {text-align: center;}#sk-container-id-1 div.sk-container {/* jupyter's `normalize.less` sets `[hidden] { display: none; }` but bootstrap.min.css set `[hidden] { display: none !important; }` so we also need the `!important` here to be able to override the default hidden behavior on the sphinx rendered scikit-learn.org. See: https://github.com/scikit-learn/scikit-learn/issues/21755 */display: inline-block !important;position: relative;}#sk-container-id-1 div.sk-text-repr-fallback {display: none;}</style><div id=\"sk-container-id-1\" class=\"sk-top-container\"><div class=\"sk-text-repr-fallback\"><pre>RandomForestClassifier()</pre><b>In a Jupyter environment, please rerun this cell to show the HTML representation or trust the notebook. <br />On GitHub, the HTML representation is unable to render, please try loading this page with nbviewer.org.</b></div><div class=\"sk-container\" hidden><div class=\"sk-item\"><div class=\"sk-estimator sk-toggleable\"><input class=\"sk-toggleable__control sk-hidden--visually\" id=\"sk-estimator-id-1\" type=\"checkbox\" checked><label for=\"sk-estimator-id-1\" class=\"sk-toggleable__label sk-toggleable__label-arrow\">RandomForestClassifier</label><div class=\"sk-toggleable__content\"><pre>RandomForestClassifier()</pre></div></div></div></div></div>"
            ]
          },
          "metadata": {},
          "execution_count": 59
        }
      ]
    },
    {
      "cell_type": "code",
      "source": [
        "y_predicted = rfc.predict(xv_train)\n",
        "rfc_accuracy = accuracy_score(y_predicted,y_train )"
      ],
      "metadata": {
        "id": "VF0XJTOkAE53"
      },
      "execution_count": null,
      "outputs": []
    },
    {
      "cell_type": "code",
      "source": [
        "rfc_accuracy"
      ],
      "metadata": {
        "colab": {
          "base_uri": "https://localhost:8080/"
        },
        "id": "S1wq8cWfAJPM",
        "outputId": "b748d9ea-7a92-43c5-f6e6-a19e7c99f323"
      },
      "execution_count": null,
      "outputs": [
        {
          "output_type": "execute_result",
          "data": {
            "text/plain": [
              "0.9999441870848914"
            ]
          },
          "metadata": {},
          "execution_count": 69
        }
      ]
    },
    {
      "cell_type": "code",
      "source": [
        "y_predicted = rfc.predict(xv_test)\n",
        "rfc_accuracy = accuracy_score(y_predicted,y_test )"
      ],
      "metadata": {
        "id": "XXslQWxmALrP"
      },
      "execution_count": null,
      "outputs": []
    },
    {
      "cell_type": "code",
      "source": [
        "rfc_accuracy"
      ],
      "metadata": {
        "colab": {
          "base_uri": "https://localhost:8080/"
        },
        "id": "kkQsYgGcAPM6",
        "outputId": "1e8f3365-04d7-4705-dd7a-3aecd0ad3e7b"
      },
      "execution_count": null,
      "outputs": [
        {
          "output_type": "execute_result",
          "data": {
            "text/plain": [
              "0.9720982142857143"
            ]
          },
          "metadata": {},
          "execution_count": 63
        }
      ]
    },
    {
      "cell_type": "code",
      "source": [
        "y_test.shape , y_predicted.shape"
      ],
      "metadata": {
        "colab": {
          "base_uri": "https://localhost:8080/"
        },
        "id": "c176CYptA4X4",
        "outputId": "a03adeae-c743-4e51-f88e-8d03d4f20f02"
      },
      "execution_count": null,
      "outputs": [
        {
          "output_type": "execute_result",
          "data": {
            "text/plain": [
              "((4480,), (4480,))"
            ]
          },
          "metadata": {},
          "execution_count": 78
        }
      ]
    },
    {
      "cell_type": "code",
      "source": [
        "cm = confusion_matrix(y_test, y_predicted)\n",
        "\n",
        "disp = ConfusionMatrixDisplay(confusion_matrix=cm)\n",
        "disp.plot()\n",
        "\n",
        "plt.show()\n",
        "print(classification_report(y_test, y_predicted))"
      ],
      "metadata": {
        "colab": {
          "base_uri": "https://localhost:8080/",
          "height": 606
        },
        "id": "bY85ReQJAaNx",
        "outputId": "68c37768-045c-4cd8-9cf7-eecb3e1086f5"
      },
      "execution_count": null,
      "outputs": [
        {
          "output_type": "display_data",
          "data": {
            "text/plain": [
              "<Figure size 640x480 with 2 Axes>"
            ],
            "image/png": "[encoded data removed]"
          },
          "metadata": {}
        },
        {
          "output_type": "stream",
          "name": "stdout",
          "text": [
            "              precision    recall  f1-score   support\n",
            "\n",
            "        Fake       0.98      0.97      0.97      2353\n",
            "        True       0.97      0.97      0.97      2127\n",
            "\n",
            "    accuracy                           0.97      4480\n",
            "   macro avg       0.97      0.97      0.97      4480\n",
            "weighted avg       0.97      0.97      0.97      4480\n",
            "\n"
          ]
        }
      ]
    },
    {
      "cell_type": "code",
      "source": [
        "from sklearn.ensemble import GradientBoostingClassifier\n",
        "gbm= GradientBoostingClassifier()\n",
        "gbm.fit(xv_train, y_train)\n",
        "y_predicted = gbm.predict(xv_test)\n",
        "gbm_accuracy = accuracy_score(y_predicted,y_test )"
      ],
      "metadata": {
        "id": "iMSMJTqWCXgm"
      },
      "execution_count": null,
      "outputs": []
    },
    {
      "cell_type": "code",
      "source": [
        "gbm_accuracy"
      ],
      "metadata": {
        "colab": {
          "base_uri": "https://localhost:8080/"
        },
        "id": "Ov9Hy3bXC-sG",
        "outputId": "2b61fa7f-da21-4815-d6f7-5e24c5e17160"
      },
      "execution_count": null,
      "outputs": [
        {
          "output_type": "execute_result",
          "data": {
            "text/plain": [
              "0.9544642857142858"
            ]
          },
          "metadata": {},
          "execution_count": 81
        }
      ]
    },
    {
      "cell_type": "code",
      "source": [
        "cm = confusion_matrix(y_test, y_predicted)\n",
        "\n",
        "disp = ConfusionMatrixDisplay(confusion_matrix=cm)\n",
        "disp.plot()\n",
        "\n",
        "plt.show()\n",
        "print(classification_report(y_test, y_predicted))"
      ],
      "metadata": {
        "colab": {
          "base_uri": "https://localhost:8080/",
          "height": 610
        },
        "id": "kI7lpnYdDD-U",
        "outputId": "5c1c89cc-ddaf-4187-b627-1ebf64597968"
      },
      "execution_count": null,
      "outputs": [
        {
          "output_type": "display_data",
          "data": {
            "text/plain": [
              "<Figure size 640x480 with 2 Axes>"
            ],
            "image/png": "[encoded data removed]"
          },
          "metadata": {}
        },
        {
          "output_type": "stream",
          "name": "stdout",
          "text": [
            "              precision    recall  f1-score   support\n",
            "\n",
            "        Fake       0.95      0.96      0.96      2353\n",
            "        True       0.95      0.95      0.95      2127\n",
            "\n",
            "    accuracy                           0.95      4480\n",
            "   macro avg       0.95      0.95      0.95      4480\n",
            "weighted avg       0.95      0.95      0.95      4480\n",
            "\n"
          ]
        }
      ]
    },
    {
      "cell_type": "markdown",
      "source": [
        "Logistic Regression\n"
      ],
      "metadata": {
        "id": "fLcwqCRHDJjJ"
      }
    },
    {
      "cell_type": "code",
      "source": [
        "lgr=LogisticRegression(max_iter=1000)"
      ],
      "metadata": {
        "id": "dbcL18q2DL6L"
      },
      "execution_count": null,
      "outputs": []
    },
    {
      "cell_type": "code",
      "source": [
        "lgr.fit(xv_train,y_train)\n"
      ],
      "metadata": {
        "colab": {
          "base_uri": "https://localhost:8080/",
          "height": 75
        },
        "id": "vraRHSrWDOVx",
        "outputId": "181f3a44-4de1-4012-d5b6-2d611e134d29"
      },
      "execution_count": null,
      "outputs": [
        {
          "output_type": "execute_result",
          "data": {
            "text/plain": [
              "LogisticRegression(max_iter=1000)"
            ],
            "text/html": [
              "<style>#sk-container-id-2 {color: black;background-color: white;}#sk-container-id-2 pre{padding: 0;}#sk-container-id-2 div.sk-toggleable {background-color: white;}#sk-container-id-2 label.sk-toggleable__label {cursor: pointer;display: block;width: 100%;margin-bottom: 0;padding: 0.3em;box-sizing: border-box;text-align: center;}#sk-container-id-2 label.sk-toggleable__label-arrow:before {content: \"▸\";float: left;margin-right: 0.25em;color: #696969;}#sk-container-id-2 label.sk-toggleable__label-arrow:hover:before {color: black;}#sk-container-id-2 div.sk-estimator:hover label.sk-toggleable__label-arrow:before {color: black;}#sk-container-id-2 div.sk-toggleable__content {max-height: 0;max-width: 0;overflow: hidden;text-align: left;background-color: #f0f8ff;}#sk-container-id-2 div.sk-toggleable__content pre {margin: 0.2em;color: black;border-radius: 0.25em;background-color: #f0f8ff;}#sk-container-id-2 input.sk-toggleable__control:checked~div.sk-toggleable__content {max-height: 200px;max-width: 100%;overflow: auto;}#sk-container-id-2 input.sk-toggleable__control:checked~label.sk-toggleable__label-arrow:before {content: \"▾\";}#sk-container-id-2 div.sk-estimator input.sk-toggleable__control:checked~label.sk-toggleable__label {background-color: #d4ebff;}#sk-container-id-2 div.sk-label input.sk-toggleable__control:checked~label.sk-toggleable__label {background-color: #d4ebff;}#sk-container-id-2 input.sk-hidden--visually {border: 0;clip: rect(1px 1px 1px 1px);clip: rect(1px, 1px, 1px, 1px);height: 1px;margin: -1px;overflow: hidden;padding: 0;position: absolute;width: 1px;}#sk-container-id-2 div.sk-estimator {font-family: monospace;background-color: #f0f8ff;border: 1px dotted black;border-radius: 0.25em;box-sizing: border-box;margin-bottom: 0.5em;}#sk-container-id-2 div.sk-estimator:hover {background-color: #d4ebff;}#sk-container-id-2 div.sk-parallel-item::after {content: \"\";width: 100%;border-bottom: 1px solid gray;flex-grow: 1;}#sk-container-id-2 div.sk-label:hover label.sk-toggleable__label {background-color: #d4ebff;}#sk-container-id-2 div.sk-serial::before {content: \"\";position: absolute;border-left: 1px solid gray;box-sizing: border-box;top: 0;bottom: 0;left: 50%;z-index: 0;}#sk-container-id-2 div.sk-serial {display: flex;flex-direction: column;align-items: center;background-color: white;padding-right: 0.2em;padding-left: 0.2em;position: relative;}#sk-container-id-2 div.sk-item {position: relative;z-index: 1;}#sk-container-id-2 div.sk-parallel {display: flex;align-items: stretch;justify-content: center;background-color: white;position: relative;}#sk-container-id-2 div.sk-item::before, #sk-container-id-2 div.sk-parallel-item::before {content: \"\";position: absolute;border-left: 1px solid gray;box-sizing: border-box;top: 0;bottom: 0;left: 50%;z-index: -1;}#sk-container-id-2 div.sk-parallel-item {display: flex;flex-direction: column;z-index: 1;position: relative;background-color: white;}#sk-container-id-2 div.sk-parallel-item:first-child::after {align-self: flex-end;width: 50%;}#sk-container-id-2 div.sk-parallel-item:last-child::after {align-self: flex-start;width: 50%;}#sk-container-id-2 div.sk-parallel-item:only-child::after {width: 0;}#sk-container-id-2 div.sk-dashed-wrapped {border: 1px dashed gray;margin: 0 0.4em 0.5em 0.4em;box-sizing: border-box;padding-bottom: 0.4em;background-color: white;}#sk-container-id-2 div.sk-label label {font-family: monospace;font-weight: bold;display: inline-block;line-height: 1.2em;}#sk-container-id-2 div.sk-label-container {text-align: center;}#sk-container-id-2 div.sk-container {/* jupyter's `normalize.less` sets `[hidden] { display: none; }` but bootstrap.min.css set `[hidden] { display: none !important; }` so we also need the `!important` here to be able to override the default hidden behavior on the sphinx rendered scikit-learn.org. See: https://github.com/scikit-learn/scikit-learn/issues/21755 */display: inline-block !important;position: relative;}#sk-container-id-2 div.sk-text-repr-fallback {display: none;}</style><div id=\"sk-container-id-2\" class=\"sk-top-container\"><div class=\"sk-text-repr-fallback\"><pre>LogisticRegression(max_iter=1000)</pre><b>In a Jupyter environment, please rerun this cell to show the HTML representation or trust the notebook. <br />On GitHub, the HTML representation is unable to render, please try loading this page with nbviewer.org.</b></div><div class=\"sk-container\" hidden><div class=\"sk-item\"><div class=\"sk-estimator sk-toggleable\"><input class=\"sk-toggleable__control sk-hidden--visually\" id=\"sk-estimator-id-2\" type=\"checkbox\" checked><label for=\"sk-estimator-id-2\" class=\"sk-toggleable__label sk-toggleable__label-arrow\">LogisticRegression</label><div class=\"sk-toggleable__content\"><pre>LogisticRegression(max_iter=1000)</pre></div></div></div></div></div>"
            ]
          },
          "metadata": {},
          "execution_count": 84
        }
      ]
    },
    {
      "cell_type": "code",
      "source": [
        "y_pred=lgr.predict(xv_test)"
      ],
      "metadata": {
        "id": "zEI7hM9XDSnD"
      },
      "execution_count": null,
      "outputs": []
    },
    {
      "cell_type": "code",
      "source": [
        "accuracy_score(y_pred,y_test)"
      ],
      "metadata": {
        "colab": {
          "base_uri": "https://localhost:8080/"
        },
        "id": "Trc_6MJ_DVIF",
        "outputId": "2c138136-4e10-4f77-80e8-6f430e20cbc0"
      },
      "execution_count": null,
      "outputs": [
        {
          "output_type": "execute_result",
          "data": {
            "text/plain": [
              "0.9754464285714286"
            ]
          },
          "metadata": {},
          "execution_count": 86
        }
      ]
    },
    {
      "cell_type": "code",
      "source": [
        "cm = confusion_matrix(y_test, y_pred)\n",
        "\n",
        "disp = ConfusionMatrixDisplay(confusion_matrix=cm)\n",
        "disp.plot()\n",
        "\n",
        "plt.show()\n",
        "print(classification_report(y_test, y_pred))"
      ],
      "metadata": {
        "colab": {
          "base_uri": "https://localhost:8080/",
          "height": 605
        },
        "id": "g2o7QkwmDYcn",
        "outputId": "21137579-a944-4691-d0e1-3fbc8616dff3"
      },
      "execution_count": null,
      "outputs": [
        {
          "output_type": "display_data",
          "data": {
            "text/plain": [
              "<Figure size 640x480 with 2 Axes>"
            ],
            "image/png": "[encoded data removed]"
          },
          "metadata": {}
        },
        {
          "output_type": "stream",
          "name": "stdout",
          "text": [
            "              precision    recall  f1-score   support\n",
            "\n",
            "        Fake       0.98      0.97      0.98      2353\n",
            "        True       0.97      0.98      0.97      2127\n",
            "\n",
            "    accuracy                           0.98      4480\n",
            "   macro avg       0.98      0.98      0.98      4480\n",
            "weighted avg       0.98      0.98      0.98      4480\n",
            "\n"
          ]
        }
      ]
    },
    {
      "cell_type": "markdown",
      "source": [
        "Manual Testing"
      ],
      "metadata": {
        "id": "CFMikSlSDdC8"
      }
    },
    {
      "cell_type": "code",
      "source": [
        "def manual_testing(news):\n",
        "    testing_news = {\"text\":[news]}\n",
        "    new_def_test = pd.DataFrame(testing_news)\n",
        "    new_def_test[\"text\"] = new_def_test[\"text\"].apply(reuters_removal)\n",
        "\n",
        "    new_def_test[\"text\"] = new_def_test[\"text\"].apply(stemmer)\n",
        "    new_x_test = new_def_test[\"text\"]\n",
        "    new_xv_test = vectorization.transform(new_x_test)\n",
        "    prediction= rfc.predict(new_xv_test)\n",
        "    return prediction[0]"
      ],
      "metadata": {
        "id": "u53wSXJfDbwS"
      },
      "execution_count": null,
      "outputs": []
    },
    {
      "cell_type": "code",
      "source": [
        "news_article = \"\"\"\n",
        "In an unprecedented move, a secret committee within the U.S. government has been revealed to be planning to dissolve the current Congress and hold new elections. According to leaked documents, this committee, led by high-ranking officials from both major political parties, aims to overhaul the legislative branch due to alleged widespread corruption and inefficiency.\n",
        "The plan, codenamed \"Operation Clean Sweep,\" suggests that all current members of Congress will be temporarily suspended, and a new election will be conducted within six months. The documents claim this drastic measure is necessary to restore public trust and ensure that only the most qualified and ethical candidates hold office.\n",
        "This revelation has sparked a massive debate across the country, with many citizens expressing both support and outrage. Critics argue that this move undermines democracy and could lead to a dangerous concentration of power, while supporters believe it is a necessary step to combat corruption.\n",
        "As the news spreads, the White House has neither confirmed nor denied the existence of such a plan, urging the public to remain calm and await official statements.\n",
        "\"\"\""
      ],
      "metadata": {
        "id": "IWOoxVy8ENM6"
      },
      "execution_count": null,
      "outputs": []
    },
    {
      "cell_type": "code",
      "source": [
        "df_manual"
      ],
      "metadata": {
        "colab": {
          "base_uri": "https://localhost:8080/",
          "height": 1000
        },
        "id": "hjDTkpsZEoAP",
        "outputId": "4748bae1-d300-4976-a0b2-86962c2f5e70"
      },
      "execution_count": null,
      "outputs": [
        {
          "output_type": "execute_result",
          "data": {
            "text/plain": [
              "                                                title  \\\n",
              "0    Did Ron Paul Just Confuse Al-Qaeda With ISIS,...   \n",
              "1    Congressional Black Caucus Signals That They ...   \n",
              "2    Body-Slamming Republican Thought He Was Too I...   \n",
              "3    Ron Paul Blames Obama For A Stock Market Cras...   \n",
              "4    GOP Lawmaker Blames Obama For Staging Racist ...   \n",
              "5    Twitter Has Absolute Field Day Laughing At Tr...   \n",
              "6    Donald Trump Never Met A Disaster He Couldn’t...   \n",
              "7    Thousands Of Advertisers Are Fleeing From Fak...   \n",
              "8    Trump’s Response To USS John S. McCain Collis...   \n",
              "9    Secret Service Officially Can’t Afford To Pay...   \n",
              "10  U.S. court backs Trump in battle over interim ...   \n",
              "11  Democrats skip Trump meeting, raising risk of ...   \n",
              "12  Senate Republicans shove tax bill ahead as Dem...   \n",
              "13  Congress government funding fight seen spillin...   \n",
              "14  Factbox: Republican senators to watch in tax b...   \n",
              "15  Trump to visit Utah next week, expected to ann...   \n",
              "16  Watchdog to depart DHS after tensions over U.S...   \n",
              "17  Republican Senator Collins says talks on tax b...   \n",
              "18  Factbox: Trump on Twitter (Nov. 28) - NFL, Fir...   \n",
              "19  Consumer agency official English says will be ...   \n",
              "20  U.S. Sen. Warren predicts appeal in legal batt...   \n",
              "\n",
              "                                                 text       subject  \\\n",
              "0   Former Texas Congressman Ron Paul added yet mo...          News   \n",
              "1   The Congressional Black Caucus, like most Demo...          News   \n",
              "2   You may remember Greg Gianforte, the Republica...          News   \n",
              "3   Ron Paul, who s a retired doctor, not an econo...          News   \n",
              "4   According to Republican lawmaker from Idaho, i...          News   \n",
              "5   Scientists have been warning the world for wee...          News   \n",
              "6   Back when conservative politics were actually ...          News   \n",
              "7   Donald Trump s former Chief Strategist Stephen...          News   \n",
              "8   It s common knowledge that Donald Trump is a s...          News   \n",
              "9   Donald Trump has been wasting taxpayer dollars...          News   \n",
              "10  WASHINGTON (Reuters) - A U.S. District Court j...  politicsNews   \n",
              "11  WASHINGTON (Reuters) - Democratic leaders in C...  politicsNews   \n",
              "12  WASHINGTON (Reuters) - U.S. Senate Republicans...  politicsNews   \n",
              "13  WASHINGTON (Reuters) - Congress is likely to m...  politicsNews   \n",
              "14  (Reuters) - U.S. Republicans made progress on ...  politicsNews   \n",
              "15  WASHINGTON (Reuters) - President Donald Trump ...  politicsNews   \n",
              "16  WASHINGTON (Reuters) - The U.S. Department of ...  politicsNews   \n",
              "17  WASHINGTON (Reuters) - Republican U.S. Senator...  politicsNews   \n",
              "18  The following statements were posted to the ve...  politicsNews   \n",
              "19  WASHINGTON (Reuters) - Leandra English, who is...  politicsNews   \n",
              "20  WASHINGTON (Reuters) - U.S. Senator Elizabeth ...  politicsNews   \n",
              "\n",
              "                  date Label  \n",
              "0      August 22, 2017  Fake  \n",
              "1      August 21, 2017  Fake  \n",
              "2      August 21, 2017  Fake  \n",
              "3      August 21, 2017  Fake  \n",
              "4      August 21, 2017  Fake  \n",
              "5      August 21, 2017  Fake  \n",
              "6      August 21, 2017  Fake  \n",
              "7      August 21, 2017  Fake  \n",
              "8      August 21, 2017  Fake  \n",
              "9      August 21, 2017  Fake  \n",
              "10  November 28, 2017   True  \n",
              "11  November 28, 2017   True  \n",
              "12  November 28, 2017   True  \n",
              "13  November 28, 2017   True  \n",
              "14  November 28, 2017   True  \n",
              "15  November 28, 2017   True  \n",
              "16  November 28, 2017   True  \n",
              "17  November 28, 2017   True  \n",
              "18  November 28, 2017   True  \n",
              "19  November 28, 2017   True  \n",
              "20  November 28, 2017   True  "
            ],
            "text/html": [
              "\n",
              "  <div id=\"df-79c8a3f5-a884-4129-bf57-2352ecca115e\" class=\"colab-df-container\">\n",
              "    <div>\n",
              "<style scoped>\n",
              "    .dataframe tbody tr th:only-of-type {\n",
              "        vertical-align: middle;\n",
              "    }\n",
              "\n",
              "    .dataframe tbody tr th {\n",
              "        vertical-align: top;\n",
              "    }\n",
              "\n",
              "    .dataframe thead th {\n",
              "        text-align: right;\n",
              "    }\n",
              "</style>\n",
              "<table border=\"1\" class=\"dataframe\">\n",
              "  <thead>\n",
              "    <tr style=\"text-align: right;\">\n",
              "      <th></th>\n",
              "      <th>title</th>\n",
              "      <th>text</th>\n",
              "      <th>subject</th>\n",
              "      <th>date</th>\n",
              "      <th>Label</th>\n",
              "    </tr>\n",
              "  </thead>\n",
              "  <tbody>\n",
              "    <tr>\n",
              "      <th>0</th>\n",
              "      <td>Did Ron Paul Just Confuse Al-Qaeda With ISIS,...</td>\n",
              "      <td>Former Texas Congressman Ron Paul added yet mo...</td>\n",
              "      <td>News</td>\n",
              "      <td>August 22, 2017</td>\n",
              "      <td>Fake</td>\n",
              "    </tr>\n",
              "    <tr>\n",
              "      <th>1</th>\n",
              "      <td>Congressional Black Caucus Signals That They ...</td>\n",
              "      <td>The Congressional Black Caucus, like most Demo...</td>\n",
              "      <td>News</td>\n",
              "      <td>August 21, 2017</td>\n",
              "      <td>Fake</td>\n",
              "    </tr>\n",
              "    <tr>\n",
              "      <th>2</th>\n",
              "      <td>Body-Slamming Republican Thought He Was Too I...</td>\n",
              "      <td>You may remember Greg Gianforte, the Republica...</td>\n",
              "      <td>News</td>\n",
              "      <td>August 21, 2017</td>\n",
              "      <td>Fake</td>\n",
              "    </tr>\n",
              "    <tr>\n",
              "      <th>3</th>\n",
              "      <td>Ron Paul Blames Obama For A Stock Market Cras...</td>\n",
              "      <td>Ron Paul, who s a retired doctor, not an econo...</td>\n",
              "      <td>News</td>\n",
              "      <td>August 21, 2017</td>\n",
              "      <td>Fake</td>\n",
              "    </tr>\n",
              "    <tr>\n",
              "      <th>4</th>\n",
              "      <td>GOP Lawmaker Blames Obama For Staging Racist ...</td>\n",
              "      <td>According to Republican lawmaker from Idaho, i...</td>\n",
              "      <td>News</td>\n",
              "      <td>August 21, 2017</td>\n",
              "      <td>Fake</td>\n",
              "    </tr>\n",
              "    <tr>\n",
              "      <th>5</th>\n",
              "      <td>Twitter Has Absolute Field Day Laughing At Tr...</td>\n",
              "      <td>Scientists have been warning the world for wee...</td>\n",
              "      <td>News</td>\n",
              "      <td>August 21, 2017</td>\n",
              "      <td>Fake</td>\n",
              "    </tr>\n",
              "    <tr>\n",
              "      <th>6</th>\n",
              "      <td>Donald Trump Never Met A Disaster He Couldn’t...</td>\n",
              "      <td>Back when conservative politics were actually ...</td>\n",
              "      <td>News</td>\n",
              "      <td>August 21, 2017</td>\n",
              "      <td>Fake</td>\n",
              "    </tr>\n",
              "    <tr>\n",
              "      <th>7</th>\n",
              "      <td>Thousands Of Advertisers Are Fleeing From Fak...</td>\n",
              "      <td>Donald Trump s former Chief Strategist Stephen...</td>\n",
              "      <td>News</td>\n",
              "      <td>August 21, 2017</td>\n",
              "      <td>Fake</td>\n",
              "    </tr>\n",
              "    <tr>\n",
              "      <th>8</th>\n",
              "      <td>Trump’s Response To USS John S. McCain Collis...</td>\n",
              "      <td>It s common knowledge that Donald Trump is a s...</td>\n",
              "      <td>News</td>\n",
              "      <td>August 21, 2017</td>\n",
              "      <td>Fake</td>\n",
              "    </tr>\n",
              "    <tr>\n",
              "      <th>9</th>\n",
              "      <td>Secret Service Officially Can’t Afford To Pay...</td>\n",
              "      <td>Donald Trump has been wasting taxpayer dollars...</td>\n",
              "      <td>News</td>\n",
              "      <td>August 21, 2017</td>\n",
              "      <td>Fake</td>\n",
              "    </tr>\n",
              "    <tr>\n",
              "      <th>10</th>\n",
              "      <td>U.S. court backs Trump in battle over interim ...</td>\n",
              "      <td>WASHINGTON (Reuters) - A U.S. District Court j...</td>\n",
              "      <td>politicsNews</td>\n",
              "      <td>November 28, 2017</td>\n",
              "      <td>True</td>\n",
              "    </tr>\n",
              "    <tr>\n",
              "      <th>11</th>\n",
              "      <td>Democrats skip Trump meeting, raising risk of ...</td>\n",
              "      <td>WASHINGTON (Reuters) - Democratic leaders in C...</td>\n",
              "      <td>politicsNews</td>\n",
              "      <td>November 28, 2017</td>\n",
              "      <td>True</td>\n",
              "    </tr>\n",
              "    <tr>\n",
              "      <th>12</th>\n",
              "      <td>Senate Republicans shove tax bill ahead as Dem...</td>\n",
              "      <td>WASHINGTON (Reuters) - U.S. Senate Republicans...</td>\n",
              "      <td>politicsNews</td>\n",
              "      <td>November 28, 2017</td>\n",
              "      <td>True</td>\n",
              "    </tr>\n",
              "    <tr>\n",
              "      <th>13</th>\n",
              "      <td>Congress government funding fight seen spillin...</td>\n",
              "      <td>WASHINGTON (Reuters) - Congress is likely to m...</td>\n",
              "      <td>politicsNews</td>\n",
              "      <td>November 28, 2017</td>\n",
              "      <td>True</td>\n",
              "    </tr>\n",
              "    <tr>\n",
              "      <th>14</th>\n",
              "      <td>Factbox: Republican senators to watch in tax b...</td>\n",
              "      <td>(Reuters) - U.S. Republicans made progress on ...</td>\n",
              "      <td>politicsNews</td>\n",
              "      <td>November 28, 2017</td>\n",
              "      <td>True</td>\n",
              "    </tr>\n",
              "    <tr>\n",
              "      <th>15</th>\n",
              "      <td>Trump to visit Utah next week, expected to ann...</td>\n",
              "      <td>WASHINGTON (Reuters) - President Donald Trump ...</td>\n",
              "      <td>politicsNews</td>\n",
              "      <td>November 28, 2017</td>\n",
              "      <td>True</td>\n",
              "    </tr>\n",
              "    <tr>\n",
              "      <th>16</th>\n",
              "      <td>Watchdog to depart DHS after tensions over U.S...</td>\n",
              "      <td>WASHINGTON (Reuters) - The U.S. Department of ...</td>\n",
              "      <td>politicsNews</td>\n",
              "      <td>November 28, 2017</td>\n",
              "      <td>True</td>\n",
              "    </tr>\n",
              "    <tr>\n",
              "      <th>17</th>\n",
              "      <td>Republican Senator Collins says talks on tax b...</td>\n",
              "      <td>WASHINGTON (Reuters) - Republican U.S. Senator...</td>\n",
              "      <td>politicsNews</td>\n",
              "      <td>November 28, 2017</td>\n",
              "      <td>True</td>\n",
              "    </tr>\n",
              "    <tr>\n",
              "      <th>18</th>\n",
              "      <td>Factbox: Trump on Twitter (Nov. 28) - NFL, Fir...</td>\n",
              "      <td>The following statements were posted to the ve...</td>\n",
              "      <td>politicsNews</td>\n",
              "      <td>November 28, 2017</td>\n",
              "      <td>True</td>\n",
              "    </tr>\n",
              "    <tr>\n",
              "      <th>19</th>\n",
              "      <td>Consumer agency official English says will be ...</td>\n",
              "      <td>WASHINGTON (Reuters) - Leandra English, who is...</td>\n",
              "      <td>politicsNews</td>\n",
              "      <td>November 28, 2017</td>\n",
              "      <td>True</td>\n",
              "    </tr>\n",
              "    <tr>\n",
              "      <th>20</th>\n",
              "      <td>U.S. Sen. Warren predicts appeal in legal batt...</td>\n",
              "      <td>WASHINGTON (Reuters) - U.S. Senator Elizabeth ...</td>\n",
              "      <td>politicsNews</td>\n",
              "      <td>November 28, 2017</td>\n",
              "      <td>True</td>\n",
              "    </tr>\n",
              "  </tbody>\n",
              "</table>\n",
              "</div>\n",
              "    <div class=\"colab-df-buttons\">\n",
              "\n",
              "  <div class=\"colab-df-container\">\n",
              "    <button class=\"colab-df-convert\" onclick=\"convertToInteractive('df-79c8a3f5-a884-4129-bf57-2352ecca115e')\"\n",
              "            title=\"Convert this dataframe to an interactive table.\"\n",
              "            style=\"display:none;\">\n",
              "\n",
              "  <svg xmlns=\"http://www.w3.org/2000/svg\" height=\"24px\" viewBox=\"0 -960 960 960\">\n",
              "    <path d=\"M120-120v-720h720v720H120Zm60-500h600v-160H180v160Zm220 220h160v-160H400v160Zm0 220h160v-160H400v160ZM180-400h160v-160H180v160Zm440 0h160v-160H620v160ZM180-180h160v-160H180v160Zm440 0h160v-160H620v160Z\"/>\n",
              "  </svg>\n",
              "    </button>\n",
              "\n",
              "  <style>\n",
              "    .colab-df-container {\n",
              "      display:flex;\n",
              "      gap: 12px;\n",
              "    }\n",
              "\n",
              "    .colab-df-convert {\n",
              "      background-color: #E8F0FE;\n",
              "      border: none;\n",
              "      border-radius: 50%;\n",
              "      cursor: pointer;\n",
              "      display: none;\n",
              "      fill: #1967D2;\n",
              "      height: 32px;\n",
              "      padding: 0 0 0 0;\n",
              "      width: 32px;\n",
              "    }\n",
              "\n",
              "    .colab-df-convert:hover {\n",
              "      background-color: #E2EBFA;\n",
              "      box-shadow: 0px 1px 2px rgba(60, 64, 67, 0.3), 0px 1px 3px 1px rgba(60, 64, 67, 0.15);\n",
              "      fill: #174EA6;\n",
              "    }\n",
              "\n",
              "    .colab-df-buttons div {\n",
              "      margin-bottom: 4px;\n",
              "    }\n",
              "\n",
              "    [theme=dark] .colab-df-convert {\n",
              "      background-color: #3B4455;\n",
              "      fill: #D2E3FC;\n",
              "    }\n",
              "\n",
              "    [theme=dark] .colab-df-convert:hover {\n",
              "      background-color: #434B5C;\n",
              "      box-shadow: 0px 1px 3px 1px rgba(0, 0, 0, 0.15);\n",
              "      filter: drop-shadow(0px 1px 2px rgba(0, 0, 0, 0.3));\n",
              "      fill: #FFFFFF;\n",
              "    }\n",
              "  </style>\n",
              "\n",
              "    <script>\n",
              "      const buttonEl =\n",
              "        document.querySelector('#df-79c8a3f5-a884-4129-bf57-2352ecca115e button.colab-df-convert');\n",
              "      buttonEl.style.display =\n",
              "        google.colab.kernel.accessAllowed ? 'block' : 'none';\n",
              "\n",
              "      async function convertToInteractive(key) {\n",
              "        const element = document.querySelector('#df-79c8a3f5-a884-4129-bf57-2352ecca115e');\n",
              "        const dataTable =\n",
              "          await google.colab.kernel.invokeFunction('convertToInteractive',\n",
              "                                                    [key], {});\n",
              "        if (!dataTable) return;\n",
              "\n",
              "        const docLinkHtml = 'Like what you see? Visit the ' +\n",
              "          '<a target=\"_blank\" href=https://colab.research.google.com/notebooks/data_table.ipynb>data table notebook</a>'\n",
              "          + ' to learn more about interactive tables.';\n",
              "        element.innerHTML = '';\n",
              "        dataTable['output_type'] = 'display_data';\n",
              "        await google.colab.output.renderOutput(dataTable, element);\n",
              "        const docLink = document.createElement('div');\n",
              "        docLink.innerHTML = docLinkHtml;\n",
              "        element.appendChild(docLink);\n",
              "      }\n",
              "    </script>\n",
              "  </div>\n",
              "\n",
              "\n",
              "<div id=\"df-2a86502c-e8d2-4169-b1b1-a02bfb881eaf\">\n",
              "  <button class=\"colab-df-quickchart\" onclick=\"quickchart('df-2a86502c-e8d2-4169-b1b1-a02bfb881eaf')\"\n",
              "            title=\"Suggest charts\"\n",
              "            style=\"display:none;\">\n",
              "\n",
              "<svg xmlns=\"http://www.w3.org/2000/svg\" height=\"24px\"viewBox=\"0 0 24 24\"\n",
              "     width=\"24px\">\n",
              "    <g>\n",
              "        <path d=\"M19 3H5c-1.1 0-2 .9-2 2v14c0 1.1.9 2 2 2h14c1.1 0 2-.9 2-2V5c0-1.1-.9-2-2-2zM9 17H7v-7h2v7zm4 0h-2V7h2v10zm4 0h-2v-4h2v4z\"/>\n",
              "    </g>\n",
              "</svg>\n",
              "  </button>\n",
              "\n",
              "<style>\n",
              "  .colab-df-quickchart {\n",
              "      --bg-color: #E8F0FE;\n",
              "      --fill-color: #1967D2;\n",
              "      --hover-bg-color: #E2EBFA;\n",
              "      --hover-fill-color: #174EA6;\n",
              "      --disabled-fill-color: #AAA;\n",
              "      --disabled-bg-color: #DDD;\n",
              "  }\n",
              "\n",
              "  [theme=dark] .colab-df-quickchart {\n",
              "      --bg-color: #3B4455;\n",
              "      --fill-color: #D2E3FC;\n",
              "      --hover-bg-color: #434B5C;\n",
              "      --hover-fill-color: #FFFFFF;\n",
              "      --disabled-bg-color: #3B4455;\n",
              "      --disabled-fill-color: #666;\n",
              "  }\n",
              "\n",
              "  .colab-df-quickchart {\n",
              "    background-color: var(--bg-color);\n",
              "    border: none;\n",
              "    border-radius: 50%;\n",
              "    cursor: pointer;\n",
              "    display: none;\n",
              "    fill: var(--fill-color);\n",
              "    height: 32px;\n",
              "    padding: 0;\n",
              "    width: 32px;\n",
              "  }\n",
              "\n",
              "  .colab-df-quickchart:hover {\n",
              "    background-color: var(--hover-bg-color);\n",
              "    box-shadow: 0 1px 2px rgba(60, 64, 67, 0.3), 0 1px 3px 1px rgba(60, 64, 67, 0.15);\n",
              "    fill: var(--button-hover-fill-color);\n",
              "  }\n",
              "\n",
              "  .colab-df-quickchart-complete:disabled,\n",
              "  .colab-df-quickchart-complete:disabled:hover {\n",
              "    background-color: var(--disabled-bg-color);\n",
              "    fill: var(--disabled-fill-color);\n",
              "    box-shadow: none;\n",
              "  }\n",
              "\n",
              "  .colab-df-spinner {\n",
              "    border: 2px solid var(--fill-color);\n",
              "    border-color: transparent;\n",
              "    border-bottom-color: var(--fill-color);\n",
              "    animation:\n",
              "      spin 1s steps(1) infinite;\n",
              "  }\n",
              "\n",
              "  @keyframes spin {\n",
              "    0% {\n",
              "      border-color: transparent;\n",
              "      border-bottom-color: var(--fill-color);\n",
              "      border-left-color: var(--fill-color);\n",
              "    }\n",
              "    20% {\n",
              "      border-color: transparent;\n",
              "      border-left-color: var(--fill-color);\n",
              "      border-top-color: var(--fill-color);\n",
              "    }\n",
              "    30% {\n",
              "      border-color: transparent;\n",
              "      border-left-color: var(--fill-color);\n",
              "      border-top-color: var(--fill-color);\n",
              "      border-right-color: var(--fill-color);\n",
              "    }\n",
              "    40% {\n",
              "      border-color: transparent;\n",
              "      border-right-color: var(--fill-color);\n",
              "      border-top-color: var(--fill-color);\n",
              "    }\n",
              "    60% {\n",
              "      border-color: transparent;\n",
              "      border-right-color: var(--fill-color);\n",
              "    }\n",
              "    80% {\n",
              "      border-color: transparent;\n",
              "      border-right-color: var(--fill-color);\n",
              "      border-bottom-color: var(--fill-color);\n",
              "    }\n",
              "    90% {\n",
              "      border-color: transparent;\n",
              "      border-bottom-color: var(--fill-color);\n",
              "    }\n",
              "  }\n",
              "</style>\n",
              "\n",
              "  <script>\n",
              "    async function quickchart(key) {\n",
              "      const quickchartButtonEl =\n",
              "        document.querySelector('#' + key + ' button');\n",
              "      quickchartButtonEl.disabled = true;  // To prevent multiple clicks.\n",
              "      quickchartButtonEl.classList.add('colab-df-spinner');\n",
              "      try {\n",
              "        const charts = await google.colab.kernel.invokeFunction(\n",
              "            'suggestCharts', [key], {});\n",
              "      } catch (error) {\n",
              "        console.error('Error during call to suggestCharts:', error);\n",
              "      }\n",
              "      quickchartButtonEl.classList.remove('colab-df-spinner');\n",
              "      quickchartButtonEl.classList.add('colab-df-quickchart-complete');\n",
              "    }\n",
              "    (() => {\n",
              "      let quickchartButtonEl =\n",
              "        document.querySelector('#df-2a86502c-e8d2-4169-b1b1-a02bfb881eaf button');\n",
              "      quickchartButtonEl.style.display =\n",
              "        google.colab.kernel.accessAllowed ? 'block' : 'none';\n",
              "    })();\n",
              "  </script>\n",
              "</div>\n",
              "\n",
              "  <div id=\"id_09f21e03-87d9-4e39-b02d-8b6259c8bd29\">\n",
              "    <style>\n",
              "      .colab-df-generate {\n",
              "        background-color: #E8F0FE;\n",
              "        border: none;\n",
              "        border-radius: 50%;\n",
              "        cursor: pointer;\n",
              "        display: none;\n",
              "        fill: #1967D2;\n",
              "        height: 32px;\n",
              "        padding: 0 0 0 0;\n",
              "        width: 32px;\n",
              "      }\n",
              "\n",
              "      .colab-df-generate:hover {\n",
              "        background-color: #E2EBFA;\n",
              "        box-shadow: 0px 1px 2px rgba(60, 64, 67, 0.3), 0px 1px 3px 1px rgba(60, 64, 67, 0.15);\n",
              "        fill: #174EA6;\n",
              "      }\n",
              "\n",
              "      [theme=dark] .colab-df-generate {\n",
              "        background-color: #3B4455;\n",
              "        fill: #D2E3FC;\n",
              "      }\n",
              "\n",
              "      [theme=dark] .colab-df-generate:hover {\n",
              "        background-color: #434B5C;\n",
              "        box-shadow: 0px 1px 3px 1px rgba(0, 0, 0, 0.15);\n",
              "        filter: drop-shadow(0px 1px 2px rgba(0, 0, 0, 0.3));\n",
              "        fill: #FFFFFF;\n",
              "      }\n",
              "    </style>\n",
              "    <button class=\"colab-df-generate\" onclick=\"generateWithVariable('df_manual')\"\n",
              "            title=\"Generate code using this dataframe.\"\n",
              "            style=\"display:none;\">\n",
              "\n",
              "  <svg xmlns=\"http://www.w3.org/2000/svg\" height=\"24px\"viewBox=\"0 0 24 24\"\n",
              "       width=\"24px\">\n",
              "    <path d=\"M7,19H8.4L18.45,9,17,7.55,7,17.6ZM5,21V16.75L18.45,3.32a2,2,0,0,1,2.83,0l1.4,1.43a1.91,1.91,0,0,1,.58,1.4,1.91,1.91,0,0,1-.58,1.4L9.25,21ZM18.45,9,17,7.55Zm-12,3A5.31,5.31,0,0,0,4.9,8.1,5.31,5.31,0,0,0,1,6.5,5.31,5.31,0,0,0,4.9,4.9,5.31,5.31,0,0,0,6.5,1,5.31,5.31,0,0,0,8.1,4.9,5.31,5.31,0,0,0,12,6.5,5.46,5.46,0,0,0,6.5,12Z\"/>\n",
              "  </svg>\n",
              "    </button>\n",
              "    <script>\n",
              "      (() => {\n",
              "      const buttonEl =\n",
              "        document.querySelector('#id_09f21e03-87d9-4e39-b02d-8b6259c8bd29 button.colab-df-generate');\n",
              "      buttonEl.style.display =\n",
              "        google.colab.kernel.accessAllowed ? 'block' : 'none';\n",
              "\n",
              "      buttonEl.onclick = () => {\n",
              "        google.colab.notebook.generateWithVariable('df_manual');\n",
              "      }\n",
              "      })();\n",
              "    </script>\n",
              "  </div>\n",
              "\n",
              "    </div>\n",
              "  </div>\n"
            ],
            "application/vnd.google.colaboratory.intrinsic+json": {
              "type": "dataframe",
              "variable_name": "df_manual",
              "summary": "{\n  \"name\": \"df_manual\",\n  \"rows\": 21,\n  \"fields\": [\n    {\n      \"column\": \"title\",\n      \"properties\": {\n        \"dtype\": \"string\",\n        \"num_unique_values\": 21,\n        \"samples\": [\n          \" Did Ron Paul Just Confuse Al-Qaeda With ISIS, Or Does He Simply Not Know The Difference? (TWEETS)\",\n          \"Republican Senator Collins says talks on tax bill 'productive'\",\n          \"Trump to visit Utah next week, expected to announce monument decision\"\n        ],\n        \"semantic_type\": \"\",\n        \"description\": \"\"\n      }\n    },\n    {\n      \"column\": \"text\",\n      \"properties\": {\n        \"dtype\": \"string\",\n        \"num_unique_values\": 21,\n        \"samples\": [\n          \"Former Texas Congressman Ron Paul added yet more fuel to the argument that older people should stay away from Twitter when he either confused ISIS with Al-Qaeda or simply proved that he has absolutely no idea what he is talking about in a misinformed tweet on Monday night:Remember: there was no al-Qaeda until our foolish invasion of Iraq based on neocon lies.  Ron Paul (@RonPaul) August 22, 2017One could only wish that the 82-year-old Paul, a man who has run for president three times as both a Libertarian and Republican, and one who also holds a degree in Medicine from Duke University, would be slightly more intelligent, but apparently that just isn t the case. We currently have a President in office who is concerned the with mainstream media spouting  fake news,  yet doesn t call out fellow or former Republicans when they do the exact same thing, however, fortunately there were plenty of people on Twitter who were willing to do so on Trump s behalf.Actually he's right. No Al Qaeda in Iraq before we invaded.  mike nakadai (@cinemiike) August 22, 2017Alzheimer's is terrible. Thoughts and prayers.  nosferatu (@ChrisRosendin) August 22, 2017I still remember. ? pic.twitter.com/wCqRtf5dbB  WeGovernUSA (@WeGovernUSA) August 22, 2017Was it over when when Germans bombed Pearl Harbor?Germans?Forget it, he's rolling.  Wulander (@WuShocks) August 22, 2017Even if we were to give Paul the benefit of the doubt and believe he made a simple absent-minded error, his factually-deficient tweet proves that it is people like him who are the main source of this  fake news  problem. All it would ve taken was a little fact-checking and proof-reading to see the error in his propaganda, but maybe we can clear it up for him if he is able to see the flaw in his tweet, wants to retract the statement, but can t be bothered with the research.Al-Qaeda was founded by Osama Bin Laden, Abdullah Azzah, and other Arab volunteers in the 1980s to fight the Soviet invasion of Afghanistan, however, they will forever go down in history for the 9/11 terror attacks, an event that definitely happened before the U.S. invasion of Iraq in 2003. ISIS, on the other hand, achieved notoriety following the U.S. invasion of Iraq, but they still existed before then, founded in 1999 by Jordanian Salafi jihadist Abu Musab al-Zarqawi under the name Jam at al-Taw d wa-al-Jih d and pledging their allegiance to Al-Qaeda in 2004.See, Ron, fact-checking isn t that difficult and it helps prevent opening old wounds, or ones that are still reasonably fresh with the pain still being felt to this day, wounds such as 9/11.Featured image via Alex Wong/Getty Images\",\n          \"WASHINGTON (Reuters) - Republican U.S. Senator Susan Collins, who has demanded changes to a Republican tax bill, said she had \\u201cgood discussions\\u201d with the White House and colleagues on the legislation and that \\u201cproductive negotiations\\u201d continue. \\u201cMany of these discussions have focused on my proposals to help middle-income families, including allowing a deduction for property taxes and helping to lower insurance premiums on the individual market to offset any increases that might result from repealing the individual mandate,\\u201d Collins said in a statement. Republican Senator Bob Corker, who has expressed concerns about the bill\\u2019s effect on the deficit, said details about a provision of the legislation known as a \\u201ctrigger,\\u201d which would raise taxes if expected economic growth does not materialize, will be unveiled on Thursday.  \",\n          \"WASHINGTON (Reuters) - President Donald Trump is set to visit Utah on Monday and is expected to announce his decision on whether to reduce the size of two national monuments where drilling and mining are banned, an administration official said on Tuesday. Trump is expected shrink the Bears Ears National Monument, set aside by former Democratic President Barack Obama, and the Grand Staircase-Escalante National Monument, preserved by former Democratic President Bill Clinton. The trip was first reported by the Salt Lake Tribune. Trump has pushed to roll back regulations that prevent development. To that end, he had ordered a review of the size of 27 monuments: land with cultural, historical or scientific importance preserved from development by past presidents under the Antiquities Act. Last month, White House spokeswoman Sarah Sanders said Trump would travel to Utah in early December, and U.S. Senator Orrin Hatch, a Utah Republican, said Trump would reduce the size of the monuments. Environmental groups and Native American tribal organizations plan to protest Trump\\u2019s planned visit on Saturday at Utah\\u2019s state capitol at what they call \\u201cThe Rally Against Trump\\u2019s Monumental Mistake.\\u201d The announcement is expected to touch off a legal battle with environmental groups and Native American tribes. The Navajo Nation and the four other tribes that created and co-manage the Bears Ears monument plan to file a lawsuit the next day. \\u201cWe will be fighting back immediately. All five tribes will be standing together united to defend Bears Ears,\\u201d said Natalie Landreth, an attorney for the Native American Rights Fund. The Southern Utah Wilderness Alliance and other conservation groups also plan litigation against the Trump administration to challenge changes to both Bears Ears and Grand Staircase, said Steve Bloch, director of SUWA. Bloch said conservation groups are concerned that Trump\\u2019s announcement will include an order to offer areas in the monuments for public lease sales for coal mining or oil and gas drilling. Industry groups like the oil lobbying organization the American Petroleum Institute have said in the past that both Bears Ears and Grand Staircase-Escalante were unfairly designated as monuments and needed to be reviewed. Some Utah county officials welcome a reduction in the size of the monuments, which they say has restricted road access to protected areas. In Kane County, where 60 percent of land is located within Grand Staircase, commissioner Dirk Clayson plans to attend Trump\\u2019s event if he is invited. \\u201cWe are grateful that somebody is listening to our local voice,\\u201d he said. \"\n        ],\n        \"semantic_type\": \"\",\n        \"description\": \"\"\n      }\n    },\n    {\n      \"column\": \"subject\",\n      \"properties\": {\n        \"dtype\": \"category\",\n        \"num_unique_values\": 2,\n        \"samples\": [\n          \"politicsNews\",\n          \"News\"\n        ],\n        \"semantic_type\": \"\",\n        \"description\": \"\"\n      }\n    },\n    {\n      \"column\": \"date\",\n      \"properties\": {\n        \"dtype\": \"category\",\n        \"num_unique_values\": 3,\n        \"samples\": [\n          \"August 22, 2017\",\n          \"August 21, 2017\"\n        ],\n        \"semantic_type\": \"\",\n        \"description\": \"\"\n      }\n    },\n    {\n      \"column\": \"Label\",\n      \"properties\": {\n        \"dtype\": \"category\",\n        \"num_unique_values\": 2,\n        \"samples\": [\n          \"True\",\n          \"Fake\"\n        ],\n        \"semantic_type\": \"\",\n        \"description\": \"\"\n      }\n    }\n  ]\n}"
            }
          },
          "metadata": {},
          "execution_count": 96
        }
      ]
    },
    {
      "cell_type": "code",
      "source": [
        "for i in range(0,20):\n",
        "  print(i)\n",
        "  print(manual_testing(df_manual.loc[i,'text']))"
      ],
      "metadata": {
        "colab": {
          "base_uri": "https://localhost:8080/"
        },
        "id": "r3fro1f8Dn11",
        "outputId": "16b97b6a-7784-4265-e17f-1089e026e5bf"
      },
      "execution_count": null,
      "outputs": [
        {
          "output_type": "stream",
          "name": "stdout",
          "text": [
            "0\n",
            "Fake\n",
            "1\n",
            "Fake\n",
            "2\n",
            "Fake\n",
            "3\n",
            "Fake\n",
            "4\n",
            "Fake\n",
            "5\n",
            "Fake\n",
            "6\n",
            "Fake\n",
            "7\n",
            "Fake\n",
            "8\n",
            "Fake\n",
            "9\n",
            "Fake\n",
            "10\n",
            "True\n",
            "11\n",
            "True\n",
            "12\n",
            "True\n",
            "13\n",
            "True\n",
            "14\n",
            "True\n",
            "15\n",
            "True\n",
            "16\n",
            "True\n",
            "17\n",
            "True\n",
            "18\n",
            "True\n",
            "19\n",
            "True\n"
          ]
        }
      ]
    },
    {
      "cell_type": "markdown",
      "source": [
        "Cross Validation"
      ],
      "metadata": {
        "id": "YwqNHwxSHAcx"
      }
    },
    {
      "cell_type": "code",
      "source": [
        "X_str= vectorization.transform(X)"
      ],
      "metadata": {
        "id": "gwmR1Z1nFbeM"
      },
      "execution_count": null,
      "outputs": []
    },
    {
      "cell_type": "code",
      "source": [
        "st_kf= StratifiedKFold(n_splits=5)\n",
        "st_score= cross_val_score(rfc, X_str, y, cv=st_kf )"
      ],
      "metadata": {
        "id": "xlxEO2fVHGRv"
      },
      "execution_count": null,
      "outputs": []
    },
    {
      "cell_type": "code",
      "source": [
        "print(\"Cross Validation Scores: {}\" .format(st_score))\n",
        "print(\"Average Cross Validation Score: {}\" .format(np.mean(st_score)))\n",
        "print(\"Best Cross Validation Score: {}\" .format(np.max(st_score)))\n",
        "print(\"Worst Cross Validation Score: {}\" .format(np.min(st_score)))"
      ],
      "metadata": {
        "colab": {
          "base_uri": "https://localhost:8080/"
        },
        "id": "xbo8IVX3HJjt",
        "outputId": "63ae5b95-0585-42bc-c0c7-716f8504529f"
      },
      "execution_count": null,
      "outputs": [
        {
          "output_type": "stream",
          "name": "stdout",
          "text": [
            "Cross Validation Scores: [0.97455357 0.97299107 0.97231525 0.9738781  0.97365483]\n",
            "Average Cross Validation Score: 0.9734785646509106\n",
            "Best Cross Validation Score: 0.9745535714285715\n",
            "Worst Cross Validation Score: 0.9723152489394954\n"
          ]
        }
      ]
    },
    {
      "cell_type": "markdown",
      "source": [
        "Saving the model"
      ],
      "metadata": {
        "id": "A0uS8Q3xJOT5"
      }
    },
    {
      "cell_type": "code",
      "source": [
        "y_final= y\n",
        "X_final=X"
      ],
      "metadata": {
        "id": "JqesuujmJOAH"
      },
      "execution_count": null,
      "outputs": []
    },
    {
      "cell_type": "code",
      "source": [
        "random_forest_pipeline = Pipeline([\n",
        "        ('tfidf',TfidfVectorizer(ngram_range=(1,3),use_idf=True,smooth_idf=True)),\n",
        "        ('rfc_model',RandomForestClassifier())\n",
        "        ])"
      ],
      "metadata": {
        "id": "X5R9W83fJSwT"
      },
      "execution_count": null,
      "outputs": []
    },
    {
      "cell_type": "code",
      "source": [
        "random_forest_pipeline.fit(X_final, y_final)"
      ],
      "metadata": {
        "colab": {
          "base_uri": "https://localhost:8080/",
          "height": 128
        },
        "id": "OJoFKOxQJX5j",
        "outputId": "6b16cbfa-8bbd-4589-8b04-2d670516f340"
      },
      "execution_count": null,
      "outputs": [
        {
          "output_type": "execute_result",
          "data": {
            "text/plain": [
              "Pipeline(steps=[('tfidf', TfidfVectorizer(ngram_range=(1, 3))),\n",
              "                ('rfc_model', RandomForestClassifier())])"
            ],
            "text/html": [
              "<style>#sk-container-id-3 {color: black;background-color: white;}#sk-container-id-3 pre{padding: 0;}#sk-container-id-3 div.sk-toggleable {background-color: white;}#sk-container-id-3 label.sk-toggleable__label {cursor: pointer;display: block;width: 100%;margin-bottom: 0;padding: 0.3em;box-sizing: border-box;text-align: center;}#sk-container-id-3 label.sk-toggleable__label-arrow:before {content: \"▸\";float: left;margin-right: 0.25em;color: #696969;}#sk-container-id-3 label.sk-toggleable__label-arrow:hover:before {color: black;}#sk-container-id-3 div.sk-estimator:hover label.sk-toggleable__label-arrow:before {color: black;}#sk-container-id-3 div.sk-toggleable__content {max-height: 0;max-width: 0;overflow: hidden;text-align: left;background-color: #f0f8ff;}#sk-container-id-3 div.sk-toggleable__content pre {margin: 0.2em;color: black;border-radius: 0.25em;background-color: #f0f8ff;}#sk-container-id-3 input.sk-toggleable__control:checked~div.sk-toggleable__content {max-height: 200px;max-width: 100%;overflow: auto;}#sk-container-id-3 input.sk-toggleable__control:checked~label.sk-toggleable__label-arrow:before {content: \"▾\";}#sk-container-id-3 div.sk-estimator input.sk-toggleable__control:checked~label.sk-toggleable__label {background-color: #d4ebff;}#sk-container-id-3 div.sk-label input.sk-toggleable__control:checked~label.sk-toggleable__label {background-color: #d4ebff;}#sk-container-id-3 input.sk-hidden--visually {border: 0;clip: rect(1px 1px 1px 1px);clip: rect(1px, 1px, 1px, 1px);height: 1px;margin: -1px;overflow: hidden;padding: 0;position: absolute;width: 1px;}#sk-container-id-3 div.sk-estimator {font-family: monospace;background-color: #f0f8ff;border: 1px dotted black;border-radius: 0.25em;box-sizing: border-box;margin-bottom: 0.5em;}#sk-container-id-3 div.sk-estimator:hover {background-color: #d4ebff;}#sk-container-id-3 div.sk-parallel-item::after {content: \"\";width: 100%;border-bottom: 1px solid gray;flex-grow: 1;}#sk-container-id-3 div.sk-label:hover label.sk-toggleable__label {background-color: #d4ebff;}#sk-container-id-3 div.sk-serial::before {content: \"\";position: absolute;border-left: 1px solid gray;box-sizing: border-box;top: 0;bottom: 0;left: 50%;z-index: 0;}#sk-container-id-3 div.sk-serial {display: flex;flex-direction: column;align-items: center;background-color: white;padding-right: 0.2em;padding-left: 0.2em;position: relative;}#sk-container-id-3 div.sk-item {position: relative;z-index: 1;}#sk-container-id-3 div.sk-parallel {display: flex;align-items: stretch;justify-content: center;background-color: white;position: relative;}#sk-container-id-3 div.sk-item::before, #sk-container-id-3 div.sk-parallel-item::before {content: \"\";position: absolute;border-left: 1px solid gray;box-sizing: border-box;top: 0;bottom: 0;left: 50%;z-index: -1;}#sk-container-id-3 div.sk-parallel-item {display: flex;flex-direction: column;z-index: 1;position: relative;background-color: white;}#sk-container-id-3 div.sk-parallel-item:first-child::after {align-self: flex-end;width: 50%;}#sk-container-id-3 div.sk-parallel-item:last-child::after {align-self: flex-start;width: 50%;}#sk-container-id-3 div.sk-parallel-item:only-child::after {width: 0;}#sk-container-id-3 div.sk-dashed-wrapped {border: 1px dashed gray;margin: 0 0.4em 0.5em 0.4em;box-sizing: border-box;padding-bottom: 0.4em;background-color: white;}#sk-container-id-3 div.sk-label label {font-family: monospace;font-weight: bold;display: inline-block;line-height: 1.2em;}#sk-container-id-3 div.sk-label-container {text-align: center;}#sk-container-id-3 div.sk-container {/* jupyter's `normalize.less` sets `[hidden] { display: none; }` but bootstrap.min.css set `[hidden] { display: none !important; }` so we also need the `!important` here to be able to override the default hidden behavior on the sphinx rendered scikit-learn.org. See: https://github.com/scikit-learn/scikit-learn/issues/21755 */display: inline-block !important;position: relative;}#sk-container-id-3 div.sk-text-repr-fallback {display: none;}</style><div id=\"sk-container-id-3\" class=\"sk-top-container\"><div class=\"sk-text-repr-fallback\"><pre>Pipeline(steps=[(&#x27;tfidf&#x27;, TfidfVectorizer(ngram_range=(1, 3))),\n",
              "                (&#x27;rfc_model&#x27;, RandomForestClassifier())])</pre><b>In a Jupyter environment, please rerun this cell to show the HTML representation or trust the notebook. <br />On GitHub, the HTML representation is unable to render, please try loading this page with nbviewer.org.</b></div><div class=\"sk-container\" hidden><div class=\"sk-item sk-dashed-wrapped\"><div class=\"sk-label-container\"><div class=\"sk-label sk-toggleable\"><input class=\"sk-toggleable__control sk-hidden--visually\" id=\"sk-estimator-id-3\" type=\"checkbox\" ><label for=\"sk-estimator-id-3\" class=\"sk-toggleable__label sk-toggleable__label-arrow\">Pipeline</label><div class=\"sk-toggleable__content\"><pre>Pipeline(steps=[(&#x27;tfidf&#x27;, TfidfVectorizer(ngram_range=(1, 3))),\n",
              "                (&#x27;rfc_model&#x27;, RandomForestClassifier())])</pre></div></div></div><div class=\"sk-serial\"><div class=\"sk-item\"><div class=\"sk-estimator sk-toggleable\"><input class=\"sk-toggleable__control sk-hidden--visually\" id=\"sk-estimator-id-4\" type=\"checkbox\" ><label for=\"sk-estimator-id-4\" class=\"sk-toggleable__label sk-toggleable__label-arrow\">TfidfVectorizer</label><div class=\"sk-toggleable__content\"><pre>TfidfVectorizer(ngram_range=(1, 3))</pre></div></div></div><div class=\"sk-item\"><div class=\"sk-estimator sk-toggleable\"><input class=\"sk-toggleable__control sk-hidden--visually\" id=\"sk-estimator-id-5\" type=\"checkbox\" ><label for=\"sk-estimator-id-5\" class=\"sk-toggleable__label sk-toggleable__label-arrow\">RandomForestClassifier</label><div class=\"sk-toggleable__content\"><pre>RandomForestClassifier()</pre></div></div></div></div></div></div></div>"
            ]
          },
          "metadata": {},
          "execution_count": 117
        }
      ]
    }
  ]
}